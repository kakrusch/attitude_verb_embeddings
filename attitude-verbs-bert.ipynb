{
 "cells": [
  {
   "cell_type": "code",
   "execution_count": 1,
   "id": "aaf201b5",
   "metadata": {
    "ExecuteTime": {
     "end_time": "2025-05-14T19:30:56.356386Z",
     "start_time": "2025-05-14T19:29:21.013453Z"
    },
    "execution": {
     "iopub.execute_input": "2025-05-26T16:08:27.585178Z",
     "iopub.status.busy": "2025-05-26T16:08:27.584664Z",
     "iopub.status.idle": "2025-05-26T16:08:27.591487Z",
     "shell.execute_reply": "2025-05-26T16:08:27.590265Z"
    },
    "papermill": {
     "duration": 0.017131,
     "end_time": "2025-05-26T16:08:27.593640",
     "exception": false,
     "start_time": "2025-05-26T16:08:27.576509",
     "status": "completed"
    },
    "tags": []
   },
   "outputs": [],
   "source": [
    "#!pip install transformers\n",
    "\n",
    "#!pip install torch"
   ]
  },
  {
   "cell_type": "code",
   "execution_count": 2,
   "id": "9aba8a7b",
   "metadata": {
    "ExecuteTime": {
     "end_time": "2025-05-14T20:06:11.267932Z",
     "start_time": "2025-05-14T20:06:11.092273Z"
    },
    "execution": {
     "iopub.execute_input": "2025-05-26T16:08:27.606549Z",
     "iopub.status.busy": "2025-05-26T16:08:27.605322Z",
     "iopub.status.idle": "2025-05-26T16:09:17.849579Z",
     "shell.execute_reply": "2025-05-26T16:09:17.847802Z"
    },
    "papermill": {
     "duration": 50.252861,
     "end_time": "2025-05-26T16:09:17.851817",
     "exception": false,
     "start_time": "2025-05-26T16:08:27.598956",
     "status": "completed"
    },
    "tags": []
   },
   "outputs": [
    {
     "name": "stderr",
     "output_type": "stream",
     "text": [
      "2025-05-26 16:08:55.247525: E external/local_xla/xla/stream_executor/cuda/cuda_fft.cc:477] Unable to register cuFFT factory: Attempting to register factory for plugin cuFFT when one has already been registered\n",
      "WARNING: All log messages before absl::InitializeLog() is called are written to STDERR\n",
      "E0000 00:00:1748275735.581178      13 cuda_dnn.cc:8310] Unable to register cuDNN factory: Attempting to register factory for plugin cuDNN when one has already been registered\n",
      "E0000 00:00:1748275735.669866      13 cuda_blas.cc:1418] Unable to register cuBLAS factory: Attempting to register factory for plugin cuBLAS when one has already been registered\n"
     ]
    }
   ],
   "source": [
    "from transformers import BertModel, BertTokenizerFast, BertForMaskedLM, BertForPreTraining\n",
    "\n",
    "import torch\n",
    "\n",
    "import pandas as pd"
   ]
  },
  {
   "cell_type": "code",
   "execution_count": 3,
   "id": "35333416",
   "metadata": {
    "ExecuteTime": {
     "end_time": "2025-05-14T20:06:14.743346Z",
     "start_time": "2025-05-14T20:06:14.451538Z"
    },
    "execution": {
     "iopub.execute_input": "2025-05-26T16:09:17.864508Z",
     "iopub.status.busy": "2025-05-26T16:09:17.863648Z",
     "iopub.status.idle": "2025-05-26T16:09:23.276841Z",
     "shell.execute_reply": "2025-05-26T16:09:23.275144Z"
    },
    "papermill": {
     "duration": 5.421927,
     "end_time": "2025-05-26T16:09:23.279180",
     "exception": false,
     "start_time": "2025-05-26T16:09:17.857253",
     "status": "completed"
    },
    "tags": []
   },
   "outputs": [
    {
     "data": {
      "application/vnd.jupyter.widget-view+json": {
       "model_id": "023263f386ac49efa5a3637e86eec50b",
       "version_major": 2,
       "version_minor": 0
      },
      "text/plain": [
       "tokenizer_config.json:   0%|          | 0.00/48.0 [00:00<?, ?B/s]"
      ]
     },
     "metadata": {},
     "output_type": "display_data"
    },
    {
     "data": {
      "application/vnd.jupyter.widget-view+json": {
       "model_id": "aa5d884150e04655a576addec9418e1e",
       "version_major": 2,
       "version_minor": 0
      },
      "text/plain": [
       "vocab.txt:   0%|          | 0.00/232k [00:00<?, ?B/s]"
      ]
     },
     "metadata": {},
     "output_type": "display_data"
    },
    {
     "data": {
      "application/vnd.jupyter.widget-view+json": {
       "model_id": "7148a9084b2748e1aea87a83f2da8465",
       "version_major": 2,
       "version_minor": 0
      },
      "text/plain": [
       "tokenizer.json:   0%|          | 0.00/466k [00:00<?, ?B/s]"
      ]
     },
     "metadata": {},
     "output_type": "display_data"
    },
    {
     "data": {
      "application/vnd.jupyter.widget-view+json": {
       "model_id": "eabfdf4c20b7490486acf513e692211c",
       "version_major": 2,
       "version_minor": 0
      },
      "text/plain": [
       "config.json:   0%|          | 0.00/570 [00:00<?, ?B/s]"
      ]
     },
     "metadata": {},
     "output_type": "display_data"
    },
    {
     "data": {
      "application/vnd.jupyter.widget-view+json": {
       "model_id": "15af58fa92944f9d909bd5b16646a477",
       "version_major": 2,
       "version_minor": 0
      },
      "text/plain": [
       "model.safetensors:   0%|          | 0.00/440M [00:00<?, ?B/s]"
      ]
     },
     "metadata": {},
     "output_type": "display_data"
    },
    {
     "data": {
      "text/plain": [
       "BertForPreTraining(\n",
       "  (bert): BertModel(\n",
       "    (embeddings): BertEmbeddings(\n",
       "      (word_embeddings): Embedding(30522, 768, padding_idx=0)\n",
       "      (position_embeddings): Embedding(512, 768)\n",
       "      (token_type_embeddings): Embedding(2, 768)\n",
       "      (LayerNorm): LayerNorm((768,), eps=1e-12, elementwise_affine=True)\n",
       "      (dropout): Dropout(p=0.1, inplace=False)\n",
       "    )\n",
       "    (encoder): BertEncoder(\n",
       "      (layer): ModuleList(\n",
       "        (0-11): 12 x BertLayer(\n",
       "          (attention): BertAttention(\n",
       "            (self): BertSdpaSelfAttention(\n",
       "              (query): Linear(in_features=768, out_features=768, bias=True)\n",
       "              (key): Linear(in_features=768, out_features=768, bias=True)\n",
       "              (value): Linear(in_features=768, out_features=768, bias=True)\n",
       "              (dropout): Dropout(p=0.1, inplace=False)\n",
       "            )\n",
       "            (output): BertSelfOutput(\n",
       "              (dense): Linear(in_features=768, out_features=768, bias=True)\n",
       "              (LayerNorm): LayerNorm((768,), eps=1e-12, elementwise_affine=True)\n",
       "              (dropout): Dropout(p=0.1, inplace=False)\n",
       "            )\n",
       "          )\n",
       "          (intermediate): BertIntermediate(\n",
       "            (dense): Linear(in_features=768, out_features=3072, bias=True)\n",
       "            (intermediate_act_fn): GELUActivation()\n",
       "          )\n",
       "          (output): BertOutput(\n",
       "            (dense): Linear(in_features=3072, out_features=768, bias=True)\n",
       "            (LayerNorm): LayerNorm((768,), eps=1e-12, elementwise_affine=True)\n",
       "            (dropout): Dropout(p=0.1, inplace=False)\n",
       "          )\n",
       "        )\n",
       "      )\n",
       "    )\n",
       "    (pooler): BertPooler(\n",
       "      (dense): Linear(in_features=768, out_features=768, bias=True)\n",
       "      (activation): Tanh()\n",
       "    )\n",
       "  )\n",
       "  (cls): BertPreTrainingHeads(\n",
       "    (predictions): BertLMPredictionHead(\n",
       "      (transform): BertPredictionHeadTransform(\n",
       "        (dense): Linear(in_features=768, out_features=768, bias=True)\n",
       "        (transform_act_fn): GELUActivation()\n",
       "        (LayerNorm): LayerNorm((768,), eps=1e-12, elementwise_affine=True)\n",
       "      )\n",
       "      (decoder): Linear(in_features=768, out_features=30522, bias=True)\n",
       "    )\n",
       "    (seq_relationship): Linear(in_features=768, out_features=2, bias=True)\n",
       "  )\n",
       ")"
      ]
     },
     "execution_count": 3,
     "metadata": {},
     "output_type": "execute_result"
    }
   ],
   "source": [
    "tokenizer = BertTokenizerFast.from_pretrained(\"bert-base-uncased\", return_special_tokens_mask=True)\n",
    "\n",
    "\n",
    "#  for MaskedLM allows MLM task\n",
    "#model = BertForMaskedLM.from_pretrained(\"bert-base-uncased\", output_hidden_states = True) \n",
    "\n",
    "# model for both MLM and NSP tasks\n",
    "model = BertForPreTraining.from_pretrained(\"bert-base-uncased\", output_hidden_states = True)\n",
    "\n",
    "# does this properly import the weights???\n",
    "\n",
    "\n",
    "# Set model to evaluation mode\n",
    "model.eval()"
   ]
  },
  {
   "cell_type": "code",
   "execution_count": 4,
   "id": "f402a421",
   "metadata": {
    "execution": {
     "iopub.execute_input": "2025-05-26T16:09:23.293308Z",
     "iopub.status.busy": "2025-05-26T16:09:23.292895Z",
     "iopub.status.idle": "2025-05-26T16:09:23.304830Z",
     "shell.execute_reply": "2025-05-26T16:09:23.303597Z"
    },
    "papermill": {
     "duration": 0.020917,
     "end_time": "2025-05-26T16:09:23.306775",
     "exception": false,
     "start_time": "2025-05-26T16:09:23.285858",
     "status": "completed"
    },
    "tags": []
   },
   "outputs": [
    {
     "name": "stdout",
     "output_type": "stream",
     "text": [
      "[101, 2332, 102]\n",
      "[CLS] king [SEP]\n"
     ]
    }
   ],
   "source": [
    "#tokenizer\n",
    "\n",
    "enc = tokenizer.encode(\"king\")\n",
    "\n",
    "print(enc)\n",
    "\n",
    "print(tokenizer.decode(enc))"
   ]
  },
  {
   "cell_type": "code",
   "execution_count": 5,
   "id": "b1a6a355",
   "metadata": {
    "execution": {
     "iopub.execute_input": "2025-05-26T16:09:23.320078Z",
     "iopub.status.busy": "2025-05-26T16:09:23.318863Z",
     "iopub.status.idle": "2025-05-26T16:09:23.327458Z",
     "shell.execute_reply": "2025-05-26T16:09:23.326318Z"
    },
    "papermill": {
     "duration": 0.017093,
     "end_time": "2025-05-26T16:09:23.329502",
     "exception": false,
     "start_time": "2025-05-26T16:09:23.312409",
     "status": "completed"
    },
    "tags": []
   },
   "outputs": [
    {
     "name": "stdout",
     "output_type": "stream",
     "text": [
      "[101, 1037, 2332, 7529, 2121, 2001, 7282, 103, 1996, 2697, 1012, 102]\n",
      "[CLS] a kingfisher was spotted [MASK] the lake. [SEP]\n",
      "king\n",
      "##fish\n",
      "##er\n",
      ".\n"
     ]
    }
   ],
   "source": [
    "test_sentence = \"A kingfisher was spotted [MASK] the lake.\"\n",
    "\n",
    "dec = tokenizer.encode(test_sentence)\n",
    "\n",
    "print(dec)\n",
    "\n",
    "print(tokenizer.decode(dec))\n",
    "\n",
    "print(tokenizer.decode(dec[2]))\n",
    "print(tokenizer.decode(dec[3]))\n",
    "print(tokenizer.decode(dec[4]))\n",
    "\n",
    "print(tokenizer.decode(dec[10]))"
   ]
  },
  {
   "cell_type": "markdown",
   "id": "477e5b56",
   "metadata": {
    "papermill": {
     "duration": 0.005456,
     "end_time": "2025-05-26T16:09:23.341152",
     "exception": false,
     "start_time": "2025-05-26T16:09:23.335696",
     "status": "completed"
    },
    "tags": []
   },
   "source": [
    "# MLM"
   ]
  },
  {
   "cell_type": "code",
   "execution_count": 6,
   "id": "ddc0da6d",
   "metadata": {
    "execution": {
     "iopub.execute_input": "2025-05-26T16:09:23.353722Z",
     "iopub.status.busy": "2025-05-26T16:09:23.353348Z",
     "iopub.status.idle": "2025-05-26T16:09:23.400286Z",
     "shell.execute_reply": "2025-05-26T16:09:23.398918Z"
    },
    "papermill": {
     "duration": 0.055852,
     "end_time": "2025-05-26T16:09:23.402514",
     "exception": false,
     "start_time": "2025-05-26T16:09:23.346662",
     "status": "completed"
    },
    "tags": []
   },
   "outputs": [],
   "source": [
    "# create MLM data\n",
    "\n",
    "df = pd.read_csv(\"/kaggle/input/test-clauses/embedded_clauses_variants.csv\")\n",
    "\n",
    "sent_type_dict = {}\n",
    "\n",
    "for clause_type in df[\"Clause Type\"].unique():\n",
    "    sentences = df[df[\"Clause Type\"] == clause_type][\"Embedded Clause\"].tolist()\n",
    "    sent_type_dict[clause_type] = sentences\n",
    "\n",
    "\n",
    "#print(sent_type_dict)"
   ]
  },
  {
   "cell_type": "code",
   "execution_count": 7,
   "id": "c53d6b94",
   "metadata": {
    "execution": {
     "iopub.execute_input": "2025-05-26T16:09:23.416463Z",
     "iopub.status.busy": "2025-05-26T16:09:23.416017Z",
     "iopub.status.idle": "2025-05-26T16:09:23.423366Z",
     "shell.execute_reply": "2025-05-26T16:09:23.421947Z"
    },
    "papermill": {
     "duration": 0.017118,
     "end_time": "2025-05-26T16:09:23.425739",
     "exception": false,
     "start_time": "2025-05-26T16:09:23.408621",
     "status": "completed"
    },
    "tags": []
   },
   "outputs": [
    {
     "name": "stdout",
     "output_type": "stream",
     "text": [
      "{'Declarative Finite': ['Mary X that Max read a book', 'Mary X that the dog appeared', 'Mary X that Sarah moved to Paris', 'Mary X that the weather would change', 'Mary X that her package had arrived', 'Mary X that the train was late', 'Mary X that the storm would hit soon', 'Mary X that she saw a UFO', 'Mary X that the store was closed', 'Mary X that the lights were flickering', 'Mary X that she had quit her job', 'Mary X that Max had lied', 'Mary X that the event was canceled', 'Mary X that the children were outside', 'Mary X that the recipe was hers', 'Mary X that the meeting was rescheduled', 'Mary X that they were engaged', 'Mary X that the keys were in the drawer', 'Mary X that the file was missing', 'Mary X that sales would increase', 'Mary X that the train arrives at 12:00', 'Mary X that she took the fast route', 'Mary X that she passed the test', 'Mary X that Max left'], 'Declarative Non-finite': ['Mary X to read a book', 'Mary X the dog to appear', 'Mary X to move to Paris', 'Mary X the weather to change', 'Mary X her package to arrive', 'Mary X the train to be late', 'Mary X the storm to hit soon', 'Mary X to see a UFO', 'Mary X to close the stor', 'Mary X the lights to flicker', 'Mary X to quit her job', 'Mary X to have lied', 'Mary X the event to be canceled', 'Mary X the children to be outside', 'Mary X the recipe to be hers', 'Mary X to reschedule the meeting', 'Mary X them to be engaged', 'Mary X the keys to be in the drawer', 'Mary X the files to be missing', 'Mary X sales to increase', 'Mary X to take the train', 'Mary X to take the fast route', 'Mary X to pass the test', 'Mary X to leave'], 'D-linked Finite': ['Mary X which book Max read ', 'Mary X which dog appeared', 'Mary X which city Sarah moved to ', 'Mary X [N/A]', 'Mary X which package had arrived', 'Mary X which train was late', 'Mary X which storm would hit soon', 'Mary X which UFO she saw', 'Mary X which store was closed', 'Mary X which lights were flickering', 'Mary X which employee had quit their job', 'Mary X [N/A] ', 'Mary X which event was canceled', 'Mary X which children were outside', 'Mary X which recipe was hers', 'Mary X which meeting was rescheduled', 'Mary X which couple was engaged', 'Mary X which drawer the keys were in', 'Mary X which file was missing', 'Mary X which sales would increase', 'Mary X which train arrives', 'Mary X which route she is taking', 'Mary X which test she passed', 'Mary X which place Max left'], 'D-linked Non-finite': ['Mary X which book to read ', 'Mary X which dog to play with', 'Mary X which city to move to', 'Mary X [N/A]', 'Mary X which package to send', 'Mary X [N/A]', 'Mary X [N/A]', 'Mary X which UFO to see', 'Mary X which store to close', 'Mary X which lights to flicker', 'Mary X which job to quit', 'Mary X [N/A] ', 'Mary X which event to cancel', 'Mary X which children to bring outside', 'Mary X which recipe to make', 'Mary X whichmeeting to reschedule', 'Mary X which couple to engage', 'Mary X which drawer to put the keys in', 'Mary X which file to find', 'Mary X which sale to make', 'Mary X which train to take', 'Mary X which route to take', 'Mary X which test to pass', 'Mary X which place to leave'], 'Non-d-linked Finite': ['Mary X what Max read', 'Mary X where the dog appeared', 'Mary X where Sarah moved to ', 'Mary X how the weather would change', 'Mary X what had arrived', 'Mary X why the train was late', 'Mary X when the storm would hit', 'Mary X what she saw ', 'Mary X what was closed', 'Mary X when the lights were flickering', 'Mary X what job she had quit ', 'Mary X why Max had lied', 'Mary X what was canceled', 'Mary X who was outside', 'Mary X what recipe was hers', 'Mary X when the meeting was rescheduled', 'Mary X who was engaged', 'Mary X what the keys were in', 'Mary X what was missing', 'Mary X what would increase', 'Mary X what time the train arrives', 'Mary X [N/A]', 'Mary X what she passed', 'Mary X where Max left'], 'Non-d-linked Non-finite': ['Mary X what to read', 'Mary X where to appear', 'Mary X where to moved to ', 'Mary X how to change the weather', 'Mary X what to send', 'Mary X [N/A]', 'Mary X what storm to prepare for', 'Mary X what to see', 'Mary X what to close', 'Mary X [N/A]', 'Mary X why to quit her job', 'Mary X why to lie to Max', 'Mary X what event to cancel', 'Mary X [N/A]', 'Mary X [N/A]', 'Mary X what to reschedule', 'Mary X [N/A]', 'Mary X what to put in the drawer', 'Mary X what to miss [N/A]', 'Mary X how to increase sales', 'Mary X where to take the train from', 'Mary X [N/A]', 'Mary X what to pass', 'Mary X where to leave'], 'Polar Finite': ['Mary X whether Max read a book', 'Mary X whether the dog appeared', 'Mary X whether Sarah moved to Paris', 'Mary X whether the weather would change', 'Mary X whether her package had arrived', 'Mary X whether the train was late', 'Mary X whether the storm would hit soon', 'Mary X whether she saw a UFO', 'Mary X whether the store was closed', 'Mary X whether the lights were flickering', 'Mary X whether she had quit her job', 'Mary X whether Max had lied', 'Mary X whether the event was canceled', 'Mary X whether the children were outside', 'Mary X whether the recipe was hers', 'Mary X whether the meeting was rescheduled', 'Mary X whether they were engaged', 'Mary X whether the keys were in the drawer', 'Mary X whether the file was missing', 'Mary X whether sales would increase', 'Mary X whether the train would arrive', 'Mary X whether she took the fast route', 'Mary X whether she passed the test', 'Mary X whether Max left'], 'Polar Non-finite': ['Mary X whether to read a book', 'Mary X whether to appeared', 'Mary X whether to move to Paris', 'Mary X whether to change the weather', 'Mary X whether to send a package', 'Mary X [N/A]', 'Mary X [N/A]', 'Mary X whether to see a UFO', 'Mary X whether to close the store', 'Mary X whether to flicker the lights', 'Mary X whether to quit her job', 'Mary X whether to lie', 'Mary X whether to cancel the event ', 'Mary X [N/A]', 'Mary X [N/A]', 'Mary X whether to reschedule the meeting', 'Mary X [N/A]', 'Mary X whether to put the keys in the drawer', 'Mary X [N/A]', 'Mary X whether to increase sales', 'Mary X whether to take the train', 'Mary X whether to take the fast route', 'Mary X whether to pass the test', 'Mary X whether to leave'], 'Alt Finite': ['Mary X whether Max read a book or a magazine', 'Mary X whether the dog ran or jumped', 'Mary X whether Sarah moved to Paris or somewhere else', 'Mary X whether the weather would change or stay the same', 'Mary X whether a package or a letter had arrived', 'Mary X whether the train was late or early', 'Mary X whether the storm would hit soon or tomorrow', 'Mary X whether she saw a UFO or something else', 'Mary X whether the store was closed or open', 'Mary X whether the lights were flickering or on', 'Mary X whether she had quit her job or was fired from her job', 'Mary X whether Max had lied or told the truth', 'Mary X whether the event was canceled or happening', 'Mary X whether the children or the parents were outside ', \"Mary X whether the recipe was hers or her mother's\", 'Mary X whether the meeting was rescheduled or taking place', 'Mary X whether they were engaged or married', 'Mary X whether the keys were in the drawer or on the desk', 'Mary X whether the file was missing or destroyed', 'Mary X whether sales would increase or decrease', 'Mary X whether the train or the bus would arrive', 'Mary X whether she took the fast route or the slow route', 'Mary X whether she passed or failed the test', 'Mary X whether Max stayed or left'], 'Alt Non-finite': ['Mary X whether for Max to read a book or a magazine', 'Mary X whether to run or jump', 'Mary X whether to move to Paris or somewhere else', 'Mary X [N/A]', 'Mary X whether to send a package or a letter', 'Mary X [N/A]', 'Mary X [N/A]', 'Mary X whether to see a UFO or a plane', 'Mary X whether to close the store or the box', 'Mary X whether to flicker the lights or the buttons', 'Mary X whether to quit her job or her sleep', 'Mary X whether to lie or tell the truth', 'Mary X whether to cancel the event or the date ', 'Mary X [N/A]', 'Mary X [N/A]', 'Mary X whether to reschedule the meeting or something else', 'Mary X [N/A]', 'Mary X whether to put the keys in the drawer or the cupboard', 'Mary X [N/A]', 'Mary X [N/A]', 'Mary X whether to take the train or the bus', 'Mary X whether to take the fast route or the slow route', 'Mary X whether to pass or fail the test', 'Mary X whether to stay or leave']}\n"
     ]
    }
   ],
   "source": [
    "#print(df)\n",
    "\n",
    "mlm_sent_type_dict = {}\n",
    "\n",
    "for clause_type in sent_type_dict:\n",
    "    mlm_sent_type_dict[clause_type] = [f\"Mary X {x}\" for x in sent_type_dict[clause_type]]\n",
    "\n",
    "\n",
    "\n",
    "\n",
    "#for clause_type in clause_dict:\n",
    " #   clause_dict[clause_type] = [\n",
    "  #      f\"Mary X {sentence}\" for sentence in clause_dict[clause_type]\n",
    "   # ]\n",
    "print(mlm_sent_type_dict)"
   ]
  },
  {
   "cell_type": "code",
   "execution_count": 8,
   "id": "6c042475",
   "metadata": {
    "execution": {
     "iopub.execute_input": "2025-05-26T16:09:23.441561Z",
     "iopub.status.busy": "2025-05-26T16:09:23.441160Z",
     "iopub.status.idle": "2025-05-26T16:09:23.448016Z",
     "shell.execute_reply": "2025-05-26T16:09:23.446445Z"
    },
    "papermill": {
     "duration": 0.016382,
     "end_time": "2025-05-26T16:09:23.450643",
     "exception": false,
     "start_time": "2025-05-26T16:09:23.434261",
     "status": "completed"
    },
    "tags": []
   },
   "outputs": [],
   "source": [
    "# target sentences\n",
    "\n",
    "l1 = [\"Ann X that Max read a book.\", \"Ann X that it was raining.\", \"Ann X that Max won the game\"]\n",
    "\n",
    "l2 = [\"Ann X which book Max read.\", \"Ann X what time it was raining\", \"Ann X which dog won the game\"]\n",
    "\n",
    "mlm_sentences = [\n",
    "    \"The Eiffel Tower is located in [MASK].\",\n",
    "    \"The Eiffel Tower is located in [MASK] [MASK].\",\n",
    "    \"The Eiffel Tower is located in [MASK] [MASK] [MASK].\",\n",
    "    \"Water boils at [MASK] degrees Celsius.\",\n",
    "    \"Water appears [MASK] be boiling\",\n",
    "    \"Water appears [MASK] [MASK] boiling\"\n",
    "]"
   ]
  },
  {
   "cell_type": "code",
   "execution_count": 9,
   "id": "356bb58b",
   "metadata": {
    "execution": {
     "iopub.execute_input": "2025-05-26T16:09:23.464891Z",
     "iopub.status.busy": "2025-05-26T16:09:23.463844Z",
     "iopub.status.idle": "2025-05-26T16:09:23.473343Z",
     "shell.execute_reply": "2025-05-26T16:09:23.471754Z"
    },
    "papermill": {
     "duration": 0.01876,
     "end_time": "2025-05-26T16:09:23.475478",
     "exception": false,
     "start_time": "2025-05-26T16:09:23.456718",
     "status": "completed"
    },
    "tags": []
   },
   "outputs": [],
   "source": [
    "# predict top_k tokens\n",
    "\n",
    "def mlm_for_lists(sentence_list, top_k=5):\n",
    "    predictions = []\n",
    "\n",
    "    for sent_base in sentence_list:\n",
    "        sent = sent_base.replace(\" X \", \" [MASK] \") # replace X with masked token\n",
    "        inputs = tokenizer(sent, return_tensors=\"pt\")\n",
    "        \n",
    "        mask_indices = torch.where(inputs[\"input_ids\"] == tokenizer.mask_token_id)[1]\n",
    "\n",
    "\n",
    "        with torch.no_grad():\n",
    "            outputs = model(**inputs)\n",
    "            mlm_logits = outputs.prediction_logits\n",
    "\n",
    "\n",
    "        for mask_index in mask_indices:\n",
    "            logits = mlm_logits[0, mask_index, :]\n",
    "            top_k_ids = torch.topk(logits, top_k).indices.tolist()\n",
    "            top_k_tokens = tokenizer.convert_ids_to_tokens(top_k_ids)\n",
    "        \n",
    "\n",
    "        predictions += top_k_tokens #predicted_tokens\n",
    "        \n",
    "        #print(f\"Input: {sent}\")\n",
    "        #print(f\"Predicted: {top_k_tokens}\")\n",
    "        #print()\n",
    "\n",
    "    return predictions\n",
    "\n",
    "\n",
    "def pred_dict_maker(type_dict):\n",
    "    pred_dict = {}\n",
    "    \n",
    "    for key, value in type_dict.items():\n",
    "        pred_dict[key] = mlm_for_lists(value)\n",
    "\n",
    "    return pred_dict\n",
    "\n",
    "\n"
   ]
  },
  {
   "cell_type": "code",
   "execution_count": 10,
   "id": "902ee103",
   "metadata": {
    "execution": {
     "iopub.execute_input": "2025-05-26T16:09:23.489328Z",
     "iopub.status.busy": "2025-05-26T16:09:23.488174Z",
     "iopub.status.idle": "2025-05-26T16:09:42.469931Z",
     "shell.execute_reply": "2025-05-26T16:09:42.468802Z"
    },
    "papermill": {
     "duration": 18.990985,
     "end_time": "2025-05-26T16:09:42.472350",
     "exception": false,
     "start_time": "2025-05-26T16:09:23.481365",
     "status": "completed"
    },
    "tags": []
   },
   "outputs": [],
   "source": [
    "pred_dict = pred_dict_maker(mlm_sent_type_dict)\n",
    "\n",
    "#print(pred_dict)\n",
    "\n",
    "#predictions_l1 = mlm_for_lists(l1)\n",
    "\n",
    "#predictions_l2 = mlm_for_lists(l2)\n",
    "\n",
    "#print(set(predictions_l1))\n",
    "\n",
    "#print(set(predictions_l2))\n",
    "\n",
    "# the different predictions are single tokens, and cannot be uniformed via .tokenize()\n"
   ]
  },
  {
   "cell_type": "code",
   "execution_count": 11,
   "id": "d931272a",
   "metadata": {
    "execution": {
     "iopub.execute_input": "2025-05-26T16:09:42.486470Z",
     "iopub.status.busy": "2025-05-26T16:09:42.485926Z",
     "iopub.status.idle": "2025-05-26T16:09:48.957267Z",
     "shell.execute_reply": "2025-05-26T16:09:48.956010Z"
    },
    "papermill": {
     "duration": 6.479992,
     "end_time": "2025-05-26T16:09:48.959248",
     "exception": false,
     "start_time": "2025-05-26T16:09:42.479256",
     "status": "completed"
    },
    "tags": []
   },
   "outputs": [
    {
     "name": "stdout",
     "output_type": "stream",
     "text": [
      "rule\n",
      "['say', ',', 'say', ',', 'decide', ',', 'decide']\n"
     ]
    }
   ],
   "source": [
    "# spacy also allows morphological analysis, such that we can keep the morphological info\n",
    "\n",
    "\n",
    "testy_boi = \"said, says, decided, decides\"\n",
    "\n",
    "import spacy\n",
    "\n",
    "\n",
    "# English pipelines include a rule-based lemmatizer\n",
    "nlp = spacy.load(\"en_core_web_sm\", disable=['parser', 'ner'])\n",
    "lemmatizer = nlp.get_pipe(\"lemmatizer\")\n",
    "#lemmatizer = nlp.add_pipe(\"lemmatizer\", config={\"mode\": \"lookup\"})\n",
    "print(lemmatizer.mode)  # 'rule'\n",
    "\n",
    "#doc = nlp(\"I was reading the paper.\")\n",
    "print([token.lemma_ for token in nlp(testy_boi)])\n",
    "# ['I', 'be', 'read', 'the', 'paper', '.']"
   ]
  },
  {
   "cell_type": "code",
   "execution_count": 12,
   "id": "4da8ea6a",
   "metadata": {
    "execution": {
     "iopub.execute_input": "2025-05-26T16:09:48.973950Z",
     "iopub.status.busy": "2025-05-26T16:09:48.972083Z",
     "iopub.status.idle": "2025-05-26T16:09:53.080432Z",
     "shell.execute_reply": "2025-05-26T16:09:53.078979Z"
    },
    "papermill": {
     "duration": 4.117625,
     "end_time": "2025-05-26T16:09:53.082844",
     "exception": false,
     "start_time": "2025-05-26T16:09:48.965219",
     "status": "completed"
    },
    "tags": []
   },
   "outputs": [
    {
     "data": {
      "image/png": "[encoded data removed]",
      "text/plain": [
       "<Figure size 640x480 with 1 Axes>"
      ]
     },
     "metadata": {},
     "output_type": "display_data"
    },
    {
     "data": {
      "image/png": "[encoded data removed]",
      "text/plain": [
       "<Figure size 640x480 with 1 Axes>"
      ]
     },
     "metadata": {},
     "output_type": "display_data"
    },
    {
     "data": {
      "image/png": "[encoded data removed]",
      "text/plain": [
       "<Figure size 640x480 with 1 Axes>"
      ]
     },
     "metadata": {},
     "output_type": "display_data"
    },
    {
     "data": {
      "image/png": "[encoded data removed]",
      "text/plain": [
       "<Figure size 640x480 with 1 Axes>"
      ]
     },
     "metadata": {},
     "output_type": "display_data"
    },
    {
     "data": {
      "image/png": "[encoded data removed]",
      "text/plain": [
       "<Figure size 640x480 with 1 Axes>"
      ]
     },
     "metadata": {},
     "output_type": "display_data"
    },
    {
     "data": {
      "image/png": "[encoded data removed]",
      "text/plain": [
       "<Figure size 640x480 with 1 Axes>"
      ]
     },
     "metadata": {},
     "output_type": "display_data"
    },
    {
     "data": {
      "image/png": "[encoded data removed]",
      "text/plain": [
       "<Figure size 640x480 with 1 Axes>"
      ]
     },
     "metadata": {},
     "output_type": "display_data"
    },
    {
     "data": {
      "image/png": "[encoded data removed]",
      "text/plain": [
       "<Figure size 640x480 with 1 Axes>"
      ]
     },
     "metadata": {},
     "output_type": "display_data"
    },
    {
     "data": {
      "image/png": "[encoded data removed]",
      "text/plain": [
       "<Figure size 640x480 with 1 Axes>"
      ]
     },
     "metadata": {},
     "output_type": "display_data"
    },
    {
     "data": {
      "image/png": "[encoded data removed]",
      "text/plain": [
       "<Figure size 640x480 with 1 Axes>"
      ]
     },
     "metadata": {},
     "output_type": "display_data"
    }
   ],
   "source": [
    "\n",
    "import matplotlib.pyplot as plt\n",
    "\n",
    "\n",
    "#from nltk.stem import WordNetLemmatizer\n",
    "#wnl = WordNetLemmatizer()\n",
    "#wnl.lemmatize('ducks')\n",
    "\n",
    "\n",
    "\n",
    "\n",
    "def count_elements(word_list):\n",
    "    words = ' '.join(word_list)\n",
    "    #print(words)\n",
    "    token_list = [token.lemma_ for token in nlp(words)]\n",
    "    #token_list = [wnl.lemmatize(x) for x in word_list]\n",
    "    #print(token_list)\n",
    "    \n",
    "    count_dict = {}\n",
    "    for x in token_list:\n",
    "        count_dict[x]= token_list.count(x)\n",
    "\n",
    "    sorted_count_dict = dict(sorted(count_dict.items(), key=lambda item: item[1], reverse=True))\n",
    "    #print(sorted_count_dict)\n",
    "    return sorted_count_dict\n",
    "\n",
    "\n",
    "\n",
    "\n",
    "for key, listy in pred_dict.items():\n",
    "    #plt.figure(figsize=(10, 10))\n",
    "    count_elements(listy)\n",
    "    list_count = count_elements(listy)\n",
    "    names = list(list_count.keys())\n",
    "    values = list(list_count.values())\n",
    "    plt.bar(range(len(list_count)), values, tick_label=names)\n",
    "    plt.xticks(rotation=90) \n",
    "    plt.title(key)  # Optional: add title\n",
    "    plt.tight_layout() \n",
    "    plt.show()\n",
    "   # print()\n",
    "\n",
    "        "
   ]
  },
  {
   "cell_type": "markdown",
   "id": "f7e85ccc",
   "metadata": {
    "papermill": {
     "duration": 0.011861,
     "end_time": "2025-05-26T16:09:53.107305",
     "exception": false,
     "start_time": "2025-05-26T16:09:53.095444",
     "status": "completed"
    },
    "tags": []
   },
   "source": [
    "# NSP"
   ]
  },
  {
   "cell_type": "code",
   "execution_count": 13,
   "id": "4e1ea1ec",
   "metadata": {
    "execution": {
     "iopub.execute_input": "2025-05-26T16:09:53.134067Z",
     "iopub.status.busy": "2025-05-26T16:09:53.132830Z",
     "iopub.status.idle": "2025-05-26T16:09:53.138897Z",
     "shell.execute_reply": "2025-05-26T16:09:53.137605Z"
    },
    "papermill": {
     "duration": 0.021896,
     "end_time": "2025-05-26T16:09:53.140779",
     "exception": false,
     "start_time": "2025-05-26T16:09:53.118883",
     "status": "completed"
    },
    "tags": []
   },
   "outputs": [],
   "source": [
    "verbs = [\"prefers\", \"wonders\", \"wants\", \"regrets\", \"believes\"]\n",
    "\n",
    "# here, we would need judgements from MECORE"
   ]
  },
  {
   "cell_type": "code",
   "execution_count": 14,
   "id": "48d29478",
   "metadata": {
    "execution": {
     "iopub.execute_input": "2025-05-26T16:09:53.166981Z",
     "iopub.status.busy": "2025-05-26T16:09:53.165464Z",
     "iopub.status.idle": "2025-05-26T16:09:53.173689Z",
     "shell.execute_reply": "2025-05-26T16:09:53.171939Z"
    },
    "papermill": {
     "duration": 0.023029,
     "end_time": "2025-05-26T16:09:53.175910",
     "exception": false,
     "start_time": "2025-05-26T16:09:53.152881",
     "status": "completed"
    },
    "tags": []
   },
   "outputs": [],
   "source": [
    "def create_nsp_pairs(sent_type_dict, verb):\n",
    "    nlp_pair_dict = {}\n",
    "    #print(sent_type_dict)\n",
    "    for clause_type in sent_type_dict:\n",
    "        nlp_pair_dict[clause_type] = [(f\"Mary {verb}\", x) for x in sent_type_dict[clause_type]]\n",
    "\n",
    "    return nlp_pair_dict\n",
    "    "
   ]
  },
  {
   "cell_type": "code",
   "execution_count": 15,
   "id": "81fcc7af",
   "metadata": {
    "execution": {
     "iopub.execute_input": "2025-05-26T16:09:53.200732Z",
     "iopub.status.busy": "2025-05-26T16:09:53.200205Z",
     "iopub.status.idle": "2025-05-26T16:09:53.206533Z",
     "shell.execute_reply": "2025-05-26T16:09:53.204946Z"
    },
    "papermill": {
     "duration": 0.020852,
     "end_time": "2025-05-26T16:09:53.208425",
     "exception": false,
     "start_time": "2025-05-26T16:09:53.187573",
     "status": "completed"
    },
    "tags": []
   },
   "outputs": [],
   "source": [
    "nsp_pair_clause = create_nsp_pairs(sent_type_dict, \"wants\")\n"
   ]
  },
  {
   "cell_type": "code",
   "execution_count": 16,
   "id": "51a1a76e",
   "metadata": {
    "execution": {
     "iopub.execute_input": "2025-05-26T16:09:53.233822Z",
     "iopub.status.busy": "2025-05-26T16:09:53.233368Z",
     "iopub.status.idle": "2025-05-26T16:10:11.961241Z",
     "shell.execute_reply": "2025-05-26T16:10:11.959823Z"
    },
    "papermill": {
     "duration": 18.742957,
     "end_time": "2025-05-26T16:10:11.963175",
     "exception": false,
     "start_time": "2025-05-26T16:09:53.220218",
     "status": "completed"
    },
    "tags": []
   },
   "outputs": [
    {
     "name": "stdout",
     "output_type": "stream",
     "text": [
      "Declarative Finite\n",
      "0.6009322926014041\n",
      "Declarative Non-finite\n",
      "0.877226883060454\n",
      "D-linked Finite\n",
      "0.4677984135147805\n",
      "D-linked Non-finite\n",
      "0.8218698107715076\n",
      "Non-d-linked Finite\n",
      "0.45044871245045215\n",
      "Non-d-linked Non-finite\n",
      "0.9431712031364441\n",
      "Polar Finite\n",
      "0.2666772411709341\n",
      "Polar Non-finite\n",
      "0.9296265753606955\n",
      "Alt Finite\n",
      "0.05325490734927977\n",
      "Alt Non-finite\n",
      "0.8413203380381068\n"
     ]
    }
   ],
   "source": [
    "\n",
    "for key, nsp_pairs, in nsp_pair_clause.items():\n",
    "    all_is_next = 0\n",
    "    for sent_a, sent_b in nsp_pairs:\n",
    "        inputs = tokenizer(sent_a, sent_b, return_tensors=\"pt\", padding=True, truncation=True)\n",
    "\n",
    "        with torch.no_grad():\n",
    "            outputs = model(**inputs)\n",
    "            nsp_logits = outputs.seq_relationship_logits\n",
    "            probs = torch.softmax(nsp_logits, dim=1)\n",
    "    \n",
    "        is_next_prob = probs[0][0].item()\n",
    "        not_next_prob = probs[0][1].item()\n",
    "\n",
    "        \n",
    "        all_is_next += is_next_prob\n",
    "        \n",
    "        \n",
    "        #print(f\"A: {sent_a}\")\n",
    "        #print(f\"B: {sent_b}\")\n",
    "        #print(f\"Is Next: {is_next_prob:.4f}, Not Next: {not_next_prob:.4f}\\n\")\n",
    "\n",
    "    print(key)\n",
    "    print(all_is_next/len(nsp_pairs))"
   ]
  },
  {
   "cell_type": "code",
   "execution_count": 17,
   "id": "38b0eb61",
   "metadata": {
    "execution": {
     "iopub.execute_input": "2025-05-26T16:10:11.988093Z",
     "iopub.status.busy": "2025-05-26T16:10:11.987729Z",
     "iopub.status.idle": "2025-05-26T16:10:12.503072Z",
     "shell.execute_reply": "2025-05-26T16:10:12.501819Z"
    },
    "papermill": {
     "duration": 0.530065,
     "end_time": "2025-05-26T16:10:12.504782",
     "exception": false,
     "start_time": "2025-05-26T16:10:11.974717",
     "status": "completed"
    },
    "tags": []
   },
   "outputs": [
    {
     "name": "stdout",
     "output_type": "stream",
     "text": [
      "A: The sun rises\n",
      "B: in the east.\n",
      "Is Next: 1.0000, Not Next: 0.0000\n",
      "\n",
      "A: The sun rises\n",
      "B: in the west.\n",
      "Is Next: 1.0000, Not Next: 0.0000\n",
      "\n",
      "A: Apples are red.\n",
      "B: Cars can be expensive.\n",
      "Is Next: 0.9992, Not Next: 0.0008\n",
      "\n",
      "A: Apples are red.\n",
      "B: The man is on the helicopter.\n",
      "Is Next: 0.9964, Not Next: 0.0036\n",
      "\n",
      "A: Water appears\n",
      "B: happening\n",
      "Is Next: 0.9982, Not Next: 0.0018\n",
      "\n",
      "A: Water appears\n",
      "B: boiling\n",
      "Is Next: 0.9998, Not Next: 0.0002\n",
      "\n",
      "A: Water appears\n",
      "B: to be boiling\n",
      "Is Next: 1.0000, Not Next: 0.0000\n",
      "\n"
     ]
    }
   ],
   "source": [
    "#GPT NSP\n",
    "\n",
    "\n",
    "nsp_pairs = [\n",
    "    (\"The sun rises\", \"in the east.\"),  # is next\n",
    "    (\"The sun rises\", \"in the west.\"),\n",
    "    (\"Apples are red.\", \"Cars can be expensive.\"),           # not next\n",
    "    (\"Apples are red.\", \"The man is on the helicopter.\"), \n",
    "    (\"Water appears\", \"happening\"),\n",
    "    (\"Water appears\", \"boiling\"),\n",
    "    (\"Water appears\", \"to be boiling\"),\n",
    "]\n",
    "\n",
    "\n",
    "for sent_a, sent_b in nsp_pairs:\n",
    "    inputs = tokenizer(sent_a, sent_b, return_tensors=\"pt\", padding=True, truncation=True)\n",
    "\n",
    "    with torch.no_grad():\n",
    "        outputs = model(**inputs)\n",
    "        nsp_logits = outputs.seq_relationship_logits\n",
    "        probs = torch.softmax(nsp_logits, dim=1)\n",
    "\n",
    "    is_next_prob = probs[0][0].item()\n",
    "    not_next_prob = probs[0][1].item()\n",
    "    print(f\"A: {sent_a}\")\n",
    "    print(f\"B: {sent_b}\")\n",
    "    print(f\"Is Next: {is_next_prob:.4f}, Not Next: {not_next_prob:.4f}\\n\")\n"
   ]
  },
  {
   "cell_type": "code",
   "execution_count": null,
   "id": "832cf5f9",
   "metadata": {
    "papermill": {
     "duration": 0.012023,
     "end_time": "2025-05-26T16:10:12.528828",
     "exception": false,
     "start_time": "2025-05-26T16:10:12.516805",
     "status": "completed"
    },
    "tags": []
   },
   "outputs": [],
   "source": []
  }
 ],
 "metadata": {
  "kaggle": {
   "accelerator": "none",
   "dataSources": [
    {
     "datasetId": 7489756,
     "sourceId": 11913400,
     "sourceType": "datasetVersion"
    }
   ],
   "dockerImageVersionId": 31040,
   "isGpuEnabled": false,
   "isInternetEnabled": true,
   "language": "python",
   "sourceType": "notebook"
  },
  "kernelspec": {
   "display_name": "Python 3",
   "language": "python",
   "name": "python3"
  },
  "language_info": {
   "codemirror_mode": {
    "name": "ipython",
    "version": 3
   },
   "file_extension": ".py",
   "mimetype": "text/x-python",
   "name": "python",
   "nbconvert_exporter": "python",
   "pygments_lexer": "ipython3",
   "version": "3.11.11"
  },
  "papermill": {
   "default_parameters": {},
   "duration": 114.571211,
   "end_time": "2025-05-26T16:10:15.873610",
   "environment_variables": {},
   "exception": null,
   "input_path": "__notebook__.ipynb",
   "output_path": "__notebook__.ipynb",
   "parameters": {},
   "start_time": "2025-05-26T16:08:21.302399",
   "version": "2.6.0"
  },
  "widgets": {
   "application/vnd.jupyter.widget-state+json": {
    "state": {
     "00c948655e89461f82e92ed3ab1fa01e": {
      "model_module": "@jupyter-widgets/controls",
      "model_module_version": "2.0.0",
      "model_name": "HTMLModel",
      "state": {
       "_dom_classes": [],
       "_model_module": "@jupyter-widgets/controls",
       "_model_module_version": "2.0.0",
       "_model_name": "HTMLModel",
       "_view_count": null,
       "_view_module": "@jupyter-widgets/controls",
       "_view_module_version": "2.0.0",
       "_view_name": "HTMLView",
       "description": "",
       "description_allow_html": false,
       "layout": "IPY_MODEL_4ca42560b5e54e48ae635c3cae836438",
       "placeholder": "​",
       "style": "IPY_MODEL_0540e95c5b5c47f5ac9f4d1ea42c2872",
       "tabbable": null,
       "tooltip": null,
       "value": " 440M/440M [00:02&lt;00:00, 252MB/s]"
      }
     },
     "023263f386ac49efa5a3637e86eec50b": {
      "model_module": "@jupyter-widgets/controls",
      "model_module_version": "2.0.0",
      "model_name": "HBoxModel",
      "state": {
       "_dom_classes": [],
       "_model_module": "@jupyter-widgets/controls",
       "_model_module_version": "2.0.0",
       "_model_name": "HBoxModel",
       "_view_count": null,
       "_view_module": "@jupyter-widgets/controls",
       "_view_module_version": "2.0.0",
       "_view_name": "HBoxView",
       "box_style": "",
       "children": [
        "IPY_MODEL_272bc90b4e204e8b876d6df351c8f7de",
        "IPY_MODEL_22967bea09144483b4979b196f7762bc",
        "IPY_MODEL_cd9a4958fbbb41969bf2783a6a92a949"
       ],
       "layout": "IPY_MODEL_951b0766bb774148a5c319e192e295c8",
       "tabbable": null,
       "tooltip": null
      }
     },
     "0540e95c5b5c47f5ac9f4d1ea42c2872": {
      "model_module": "@jupyter-widgets/controls",
      "model_module_version": "2.0.0",
      "model_name": "HTMLStyleModel",
      "state": {
       "_model_module": "@jupyter-widgets/controls",
       "_model_module_version": "2.0.0",
       "_model_name": "HTMLStyleModel",
       "_view_count": null,
       "_view_module": "@jupyter-widgets/base",
       "_view_module_version": "2.0.0",
       "_view_name": "StyleView",
       "background": null,
       "description_width": "",
       "font_size": null,
       "text_color": null
      }
     },
     "096522c5dd534875b81ac0ff5d2c8084": {
      "model_module": "@jupyter-widgets/base",
      "model_module_version": "2.0.0",
      "model_name": "LayoutModel",
      "state": {
       "_model_module": "@jupyter-widgets/base",
       "_model_module_version": "2.0.0",
       "_model_name": "LayoutModel",
       "_view_count": null,
       "_view_module": "@jupyter-widgets/base",
       "_view_module_version": "2.0.0",
       "_view_name": "LayoutView",
       "align_content": null,
       "align_items": null,
       "align_self": null,
       "border_bottom": null,
       "border_left": null,
       "border_right": null,
       "border_top": null,
       "bottom": null,
       "display": null,
       "flex": null,
       "flex_flow": null,
       "grid_area": null,
       "grid_auto_columns": null,
       "grid_auto_flow": null,
       "grid_auto_rows": null,
       "grid_column": null,
       "grid_gap": null,
       "grid_row": null,
       "grid_template_areas": null,
       "grid_template_columns": null,
       "grid_template_rows": null,
       "height": null,
       "justify_content": null,
       "justify_items": null,
       "left": null,
       "margin": null,
       "max_height": null,
       "max_width": null,
       "min_height": null,
       "min_width": null,
       "object_fit": null,
       "object_position": null,
       "order": null,
       "overflow": null,
       "padding": null,
       "right": null,
       "top": null,
       "visibility": null,
       "width": null
      }
     },
     "0cb9ea3d5e79480bac3ec6f11737e6bd": {
      "model_module": "@jupyter-widgets/controls",
      "model_module_version": "2.0.0",
      "model_name": "HTMLStyleModel",
      "state": {
       "_model_module": "@jupyter-widgets/controls",
       "_model_module_version": "2.0.0",
       "_model_name": "HTMLStyleModel",
       "_view_count": null,
       "_view_module": "@jupyter-widgets/base",
       "_view_module_version": "2.0.0",
       "_view_name": "StyleView",
       "background": null,
       "description_width": "",
       "font_size": null,
       "text_color": null
      }
     },
     "0e84a86a1e594314a8b956807793721b": {
      "model_module": "@jupyter-widgets/controls",
      "model_module_version": "2.0.0",
      "model_name": "FloatProgressModel",
      "state": {
       "_dom_classes": [],
       "_model_module": "@jupyter-widgets/controls",
       "_model_module_version": "2.0.0",
       "_model_name": "FloatProgressModel",
       "_view_count": null,
       "_view_module": "@jupyter-widgets/controls",
       "_view_module_version": "2.0.0",
       "_view_name": "ProgressView",
       "bar_style": "success",
       "description": "",
       "description_allow_html": false,
       "layout": "IPY_MODEL_202167a7d57f427583cea34781755862",
       "max": 466062.0,
       "min": 0.0,
       "orientation": "horizontal",
       "style": "IPY_MODEL_4929f9c1328648c8bc7db0ef208b74da",
       "tabbable": null,
       "tooltip": null,
       "value": 466062.0
      }
     },
     "126f715121e74a4cb40d036d090fe6e1": {
      "model_module": "@jupyter-widgets/controls",
      "model_module_version": "2.0.0",
      "model_name": "HTMLStyleModel",
      "state": {
       "_model_module": "@jupyter-widgets/controls",
       "_model_module_version": "2.0.0",
       "_model_name": "HTMLStyleModel",
       "_view_count": null,
       "_view_module": "@jupyter-widgets/base",
       "_view_module_version": "2.0.0",
       "_view_name": "StyleView",
       "background": null,
       "description_width": "",
       "font_size": null,
       "text_color": null
      }
     },
     "13e404bc318f4d24bd137dec73ab0b81": {
      "model_module": "@jupyter-widgets/controls",
      "model_module_version": "2.0.0",
      "model_name": "HTMLStyleModel",
      "state": {
       "_model_module": "@jupyter-widgets/controls",
       "_model_module_version": "2.0.0",
       "_model_name": "HTMLStyleModel",
       "_view_count": null,
       "_view_module": "@jupyter-widgets/base",
       "_view_module_version": "2.0.0",
       "_view_name": "StyleView",
       "background": null,
       "description_width": "",
       "font_size": null,
       "text_color": null
      }
     },
     "15af58fa92944f9d909bd5b16646a477": {
      "model_module": "@jupyter-widgets/controls",
      "model_module_version": "2.0.0",
      "model_name": "HBoxModel",
      "state": {
       "_dom_classes": [],
       "_model_module": "@jupyter-widgets/controls",
       "_model_module_version": "2.0.0",
       "_model_name": "HBoxModel",
       "_view_count": null,
       "_view_module": "@jupyter-widgets/controls",
       "_view_module_version": "2.0.0",
       "_view_name": "HBoxView",
       "box_style": "",
       "children": [
        "IPY_MODEL_a49beae6c64042dfb9043d4063fa0b6e",
        "IPY_MODEL_a438604d953b4134a486381d437b345c",
        "IPY_MODEL_00c948655e89461f82e92ed3ab1fa01e"
       ],
       "layout": "IPY_MODEL_a4a2892619c44714b1003b75242fc5cc",
       "tabbable": null,
       "tooltip": null
      }
     },
     "17ae490476b546d8a9071014a4fc3850": {
      "model_module": "@jupyter-widgets/controls",
      "model_module_version": "2.0.0",
      "model_name": "ProgressStyleModel",
      "state": {
       "_model_module": "@jupyter-widgets/controls",
       "_model_module_version": "2.0.0",
       "_model_name": "ProgressStyleModel",
       "_view_count": null,
       "_view_module": "@jupyter-widgets/base",
       "_view_module_version": "2.0.0",
       "_view_name": "StyleView",
       "bar_color": null,
       "description_width": ""
      }
     },
     "202167a7d57f427583cea34781755862": {
      "model_module": "@jupyter-widgets/base",
      "model_module_version": "2.0.0",
      "model_name": "LayoutModel",
      "state": {
       "_model_module": "@jupyter-widgets/base",
       "_model_module_version": "2.0.0",
       "_model_name": "LayoutModel",
       "_view_count": null,
       "_view_module": "@jupyter-widgets/base",
       "_view_module_version": "2.0.0",
       "_view_name": "LayoutView",
       "align_content": null,
       "align_items": null,
       "align_self": null,
       "border_bottom": null,
       "border_left": null,
       "border_right": null,
       "border_top": null,
       "bottom": null,
       "display": null,
       "flex": null,
       "flex_flow": null,
       "grid_area": null,
       "grid_auto_columns": null,
       "grid_auto_flow": null,
       "grid_auto_rows": null,
       "grid_column": null,
       "grid_gap": null,
       "grid_row": null,
       "grid_template_areas": null,
       "grid_template_columns": null,
       "grid_template_rows": null,
       "height": null,
       "justify_content": null,
       "justify_items": null,
       "left": null,
       "margin": null,
       "max_height": null,
       "max_width": null,
       "min_height": null,
       "min_width": null,
       "object_fit": null,
       "object_position": null,
       "order": null,
       "overflow": null,
       "padding": null,
       "right": null,
       "top": null,
       "visibility": null,
       "width": null
      }
     },
     "22967bea09144483b4979b196f7762bc": {
      "model_module": "@jupyter-widgets/controls",
      "model_module_version": "2.0.0",
      "model_name": "FloatProgressModel",
      "state": {
       "_dom_classes": [],
       "_model_module": "@jupyter-widgets/controls",
       "_model_module_version": "2.0.0",
       "_model_name": "FloatProgressModel",
       "_view_count": null,
       "_view_module": "@jupyter-widgets/controls",
       "_view_module_version": "2.0.0",
       "_view_name": "ProgressView",
       "bar_style": "success",
       "description": "",
       "description_allow_html": false,
       "layout": "IPY_MODEL_096522c5dd534875b81ac0ff5d2c8084",
       "max": 48.0,
       "min": 0.0,
       "orientation": "horizontal",
       "style": "IPY_MODEL_729aab27b0a345c18e527d42ad29e546",
       "tabbable": null,
       "tooltip": null,
       "value": 48.0
      }
     },
     "252df0fc01954e22be6c2d55f0ad8c23": {
      "model_module": "@jupyter-widgets/base",
      "model_module_version": "2.0.0",
      "model_name": "LayoutModel",
      "state": {
       "_model_module": "@jupyter-widgets/base",
       "_model_module_version": "2.0.0",
       "_model_name": "LayoutModel",
       "_view_count": null,
       "_view_module": "@jupyter-widgets/base",
       "_view_module_version": "2.0.0",
       "_view_name": "LayoutView",
       "align_content": null,
       "align_items": null,
       "align_self": null,
       "border_bottom": null,
       "border_left": null,
       "border_right": null,
       "border_top": null,
       "bottom": null,
       "display": null,
       "flex": null,
       "flex_flow": null,
       "grid_area": null,
       "grid_auto_columns": null,
       "grid_auto_flow": null,
       "grid_auto_rows": null,
       "grid_column": null,
       "grid_gap": null,
       "grid_row": null,
       "grid_template_areas": null,
       "grid_template_columns": null,
       "grid_template_rows": null,
       "height": null,
       "justify_content": null,
       "justify_items": null,
       "left": null,
       "margin": null,
       "max_height": null,
       "max_width": null,
       "min_height": null,
       "min_width": null,
       "object_fit": null,
       "object_position": null,
       "order": null,
       "overflow": null,
       "padding": null,
       "right": null,
       "top": null,
       "visibility": null,
       "width": null
      }
     },
     "25dfb355b1794078acc286a22aa13370": {
      "model_module": "@jupyter-widgets/controls",
      "model_module_version": "2.0.0",
      "model_name": "HTMLStyleModel",
      "state": {
       "_model_module": "@jupyter-widgets/controls",
       "_model_module_version": "2.0.0",
       "_model_name": "HTMLStyleModel",
       "_view_count": null,
       "_view_module": "@jupyter-widgets/base",
       "_view_module_version": "2.0.0",
       "_view_name": "StyleView",
       "background": null,
       "description_width": "",
       "font_size": null,
       "text_color": null
      }
     },
     "272bc90b4e204e8b876d6df351c8f7de": {
      "model_module": "@jupyter-widgets/controls",
      "model_module_version": "2.0.0",
      "model_name": "HTMLModel",
      "state": {
       "_dom_classes": [],
       "_model_module": "@jupyter-widgets/controls",
       "_model_module_version": "2.0.0",
       "_model_name": "HTMLModel",
       "_view_count": null,
       "_view_module": "@jupyter-widgets/controls",
       "_view_module_version": "2.0.0",
       "_view_name": "HTMLView",
       "description": "",
       "description_allow_html": false,
       "layout": "IPY_MODEL_28dc01fca4c64175a432bbb18e42ae58",
       "placeholder": "​",
       "style": "IPY_MODEL_7855059fcfbe4d2aae27e674ce97c8f0",
       "tabbable": null,
       "tooltip": null,
       "value": "tokenizer_config.json: 100%"
      }
     },
     "2847a952a1c2439d9014d84c2e5ef97d": {
      "model_module": "@jupyter-widgets/base",
      "model_module_version": "2.0.0",
      "model_name": "LayoutModel",
      "state": {
       "_model_module": "@jupyter-widgets/base",
       "_model_module_version": "2.0.0",
       "_model_name": "LayoutModel",
       "_view_count": null,
       "_view_module": "@jupyter-widgets/base",
       "_view_module_version": "2.0.0",
       "_view_name": "LayoutView",
       "align_content": null,
       "align_items": null,
       "align_self": null,
       "border_bottom": null,
       "border_left": null,
       "border_right": null,
       "border_top": null,
       "bottom": null,
       "display": null,
       "flex": null,
       "flex_flow": null,
       "grid_area": null,
       "grid_auto_columns": null,
       "grid_auto_flow": null,
       "grid_auto_rows": null,
       "grid_column": null,
       "grid_gap": null,
       "grid_row": null,
       "grid_template_areas": null,
       "grid_template_columns": null,
       "grid_template_rows": null,
       "height": null,
       "justify_content": null,
       "justify_items": null,
       "left": null,
       "margin": null,
       "max_height": null,
       "max_width": null,
       "min_height": null,
       "min_width": null,
       "object_fit": null,
       "object_position": null,
       "order": null,
       "overflow": null,
       "padding": null,
       "right": null,
       "top": null,
       "visibility": null,
       "width": null
      }
     },
     "28dc01fca4c64175a432bbb18e42ae58": {
      "model_module": "@jupyter-widgets/base",
      "model_module_version": "2.0.0",
      "model_name": "LayoutModel",
      "state": {
       "_model_module": "@jupyter-widgets/base",
       "_model_module_version": "2.0.0",
       "_model_name": "LayoutModel",
       "_view_count": null,
       "_view_module": "@jupyter-widgets/base",
       "_view_module_version": "2.0.0",
       "_view_name": "LayoutView",
       "align_content": null,
       "align_items": null,
       "align_self": null,
       "border_bottom": null,
       "border_left": null,
       "border_right": null,
       "border_top": null,
       "bottom": null,
       "display": null,
       "flex": null,
       "flex_flow": null,
       "grid_area": null,
       "grid_auto_columns": null,
       "grid_auto_flow": null,
       "grid_auto_rows": null,
       "grid_column": null,
       "grid_gap": null,
       "grid_row": null,
       "grid_template_areas": null,
       "grid_template_columns": null,
       "grid_template_rows": null,
       "height": null,
       "justify_content": null,
       "justify_items": null,
       "left": null,
       "margin": null,
       "max_height": null,
       "max_width": null,
       "min_height": null,
       "min_width": null,
       "object_fit": null,
       "object_position": null,
       "order": null,
       "overflow": null,
       "padding": null,
       "right": null,
       "top": null,
       "visibility": null,
       "width": null
      }
     },
     "3ccb239617e949a5aa436e1155d05861": {
      "model_module": "@jupyter-widgets/base",
      "model_module_version": "2.0.0",
      "model_name": "LayoutModel",
      "state": {
       "_model_module": "@jupyter-widgets/base",
       "_model_module_version": "2.0.0",
       "_model_name": "LayoutModel",
       "_view_count": null,
       "_view_module": "@jupyter-widgets/base",
       "_view_module_version": "2.0.0",
       "_view_name": "LayoutView",
       "align_content": null,
       "align_items": null,
       "align_self": null,
       "border_bottom": null,
       "border_left": null,
       "border_right": null,
       "border_top": null,
       "bottom": null,
       "display": null,
       "flex": null,
       "flex_flow": null,
       "grid_area": null,
       "grid_auto_columns": null,
       "grid_auto_flow": null,
       "grid_auto_rows": null,
       "grid_column": null,
       "grid_gap": null,
       "grid_row": null,
       "grid_template_areas": null,
       "grid_template_columns": null,
       "grid_template_rows": null,
       "height": null,
       "justify_content": null,
       "justify_items": null,
       "left": null,
       "margin": null,
       "max_height": null,
       "max_width": null,
       "min_height": null,
       "min_width": null,
       "object_fit": null,
       "object_position": null,
       "order": null,
       "overflow": null,
       "padding": null,
       "right": null,
       "top": null,
       "visibility": null,
       "width": null
      }
     },
     "43f23511761344c099ec5986187e15eb": {
      "model_module": "@jupyter-widgets/controls",
      "model_module_version": "2.0.0",
      "model_name": "HTMLModel",
      "state": {
       "_dom_classes": [],
       "_model_module": "@jupyter-widgets/controls",
       "_model_module_version": "2.0.0",
       "_model_name": "HTMLModel",
       "_view_count": null,
       "_view_module": "@jupyter-widgets/controls",
       "_view_module_version": "2.0.0",
       "_view_name": "HTMLView",
       "description": "",
       "description_allow_html": false,
       "layout": "IPY_MODEL_75444a40e05849f99075e508ca868b7a",
       "placeholder": "​",
       "style": "IPY_MODEL_0cb9ea3d5e79480bac3ec6f11737e6bd",
       "tabbable": null,
       "tooltip": null,
       "value": " 570/570 [00:00&lt;00:00, 47.0kB/s]"
      }
     },
     "4929f9c1328648c8bc7db0ef208b74da": {
      "model_module": "@jupyter-widgets/controls",
      "model_module_version": "2.0.0",
      "model_name": "ProgressStyleModel",
      "state": {
       "_model_module": "@jupyter-widgets/controls",
       "_model_module_version": "2.0.0",
       "_model_name": "ProgressStyleModel",
       "_view_count": null,
       "_view_module": "@jupyter-widgets/base",
       "_view_module_version": "2.0.0",
       "_view_name": "StyleView",
       "bar_color": null,
       "description_width": ""
      }
     },
     "4ca42560b5e54e48ae635c3cae836438": {
      "model_module": "@jupyter-widgets/base",
      "model_module_version": "2.0.0",
      "model_name": "LayoutModel",
      "state": {
       "_model_module": "@jupyter-widgets/base",
       "_model_module_version": "2.0.0",
       "_model_name": "LayoutModel",
       "_view_count": null,
       "_view_module": "@jupyter-widgets/base",
       "_view_module_version": "2.0.0",
       "_view_name": "LayoutView",
       "align_content": null,
       "align_items": null,
       "align_self": null,
       "border_bottom": null,
       "border_left": null,
       "border_right": null,
       "border_top": null,
       "bottom": null,
       "display": null,
       "flex": null,
       "flex_flow": null,
       "grid_area": null,
       "grid_auto_columns": null,
       "grid_auto_flow": null,
       "grid_auto_rows": null,
       "grid_column": null,
       "grid_gap": null,
       "grid_row": null,
       "grid_template_areas": null,
       "grid_template_columns": null,
       "grid_template_rows": null,
       "height": null,
       "justify_content": null,
       "justify_items": null,
       "left": null,
       "margin": null,
       "max_height": null,
       "max_width": null,
       "min_height": null,
       "min_width": null,
       "object_fit": null,
       "object_position": null,
       "order": null,
       "overflow": null,
       "padding": null,
       "right": null,
       "top": null,
       "visibility": null,
       "width": null
      }
     },
     "51dd9cf414ce4bd5809440257e424c66": {
      "model_module": "@jupyter-widgets/controls",
      "model_module_version": "2.0.0",
      "model_name": "HTMLModel",
      "state": {
       "_dom_classes": [],
       "_model_module": "@jupyter-widgets/controls",
       "_model_module_version": "2.0.0",
       "_model_name": "HTMLModel",
       "_view_count": null,
       "_view_module": "@jupyter-widgets/controls",
       "_view_module_version": "2.0.0",
       "_view_name": "HTMLView",
       "description": "",
       "description_allow_html": false,
       "layout": "IPY_MODEL_c209de962adc4a29b55559040c68140e",
       "placeholder": "​",
       "style": "IPY_MODEL_9aefa2e1394648d5af0883ba583193dc",
       "tabbable": null,
       "tooltip": null,
       "value": " 232k/232k [00:00&lt;00:00, 1.42MB/s]"
      }
     },
     "681344e06da6456193497eb44d5ac0bf": {
      "model_module": "@jupyter-widgets/controls",
      "model_module_version": "2.0.0",
      "model_name": "HTMLModel",
      "state": {
       "_dom_classes": [],
       "_model_module": "@jupyter-widgets/controls",
       "_model_module_version": "2.0.0",
       "_model_name": "HTMLModel",
       "_view_count": null,
       "_view_module": "@jupyter-widgets/controls",
       "_view_module_version": "2.0.0",
       "_view_name": "HTMLView",
       "description": "",
       "description_allow_html": false,
       "layout": "IPY_MODEL_e7bc65df703e46f4a48b27f7bb5c575e",
       "placeholder": "​",
       "style": "IPY_MODEL_e83878a82d014846a062e5093a5f8cc9",
       "tabbable": null,
       "tooltip": null,
       "value": "config.json: 100%"
      }
     },
     "6d7e3a4e13ab4bba91adf26c737292dd": {
      "model_module": "@jupyter-widgets/controls",
      "model_module_version": "2.0.0",
      "model_name": "ProgressStyleModel",
      "state": {
       "_model_module": "@jupyter-widgets/controls",
       "_model_module_version": "2.0.0",
       "_model_name": "ProgressStyleModel",
       "_view_count": null,
       "_view_module": "@jupyter-widgets/base",
       "_view_module_version": "2.0.0",
       "_view_name": "StyleView",
       "bar_color": null,
       "description_width": ""
      }
     },
     "7148a9084b2748e1aea87a83f2da8465": {
      "model_module": "@jupyter-widgets/controls",
      "model_module_version": "2.0.0",
      "model_name": "HBoxModel",
      "state": {
       "_dom_classes": [],
       "_model_module": "@jupyter-widgets/controls",
       "_model_module_version": "2.0.0",
       "_model_name": "HBoxModel",
       "_view_count": null,
       "_view_module": "@jupyter-widgets/controls",
       "_view_module_version": "2.0.0",
       "_view_name": "HBoxView",
       "box_style": "",
       "children": [
        "IPY_MODEL_b317b408bb0a45d3868cddcb26172923",
        "IPY_MODEL_0e84a86a1e594314a8b956807793721b",
        "IPY_MODEL_97f6efc719bb49e7bf6f7c4c014ad83b"
       ],
       "layout": "IPY_MODEL_a2613f47cd864d79a5a13059809cd528",
       "tabbable": null,
       "tooltip": null
      }
     },
     "729aab27b0a345c18e527d42ad29e546": {
      "model_module": "@jupyter-widgets/controls",
      "model_module_version": "2.0.0",
      "model_name": "ProgressStyleModel",
      "state": {
       "_model_module": "@jupyter-widgets/controls",
       "_model_module_version": "2.0.0",
       "_model_name": "ProgressStyleModel",
       "_view_count": null,
       "_view_module": "@jupyter-widgets/base",
       "_view_module_version": "2.0.0",
       "_view_name": "StyleView",
       "bar_color": null,
       "description_width": ""
      }
     },
     "75444a40e05849f99075e508ca868b7a": {
      "model_module": "@jupyter-widgets/base",
      "model_module_version": "2.0.0",
      "model_name": "LayoutModel",
      "state": {
       "_model_module": "@jupyter-widgets/base",
       "_model_module_version": "2.0.0",
       "_model_name": "LayoutModel",
       "_view_count": null,
       "_view_module": "@jupyter-widgets/base",
       "_view_module_version": "2.0.0",
       "_view_name": "LayoutView",
       "align_content": null,
       "align_items": null,
       "align_self": null,
       "border_bottom": null,
       "border_left": null,
       "border_right": null,
       "border_top": null,
       "bottom": null,
       "display": null,
       "flex": null,
       "flex_flow": null,
       "grid_area": null,
       "grid_auto_columns": null,
       "grid_auto_flow": null,
       "grid_auto_rows": null,
       "grid_column": null,
       "grid_gap": null,
       "grid_row": null,
       "grid_template_areas": null,
       "grid_template_columns": null,
       "grid_template_rows": null,
       "height": null,
       "justify_content": null,
       "justify_items": null,
       "left": null,
       "margin": null,
       "max_height": null,
       "max_width": null,
       "min_height": null,
       "min_width": null,
       "object_fit": null,
       "object_position": null,
       "order": null,
       "overflow": null,
       "padding": null,
       "right": null,
       "top": null,
       "visibility": null,
       "width": null
      }
     },
     "7855059fcfbe4d2aae27e674ce97c8f0": {
      "model_module": "@jupyter-widgets/controls",
      "model_module_version": "2.0.0",
      "model_name": "HTMLStyleModel",
      "state": {
       "_model_module": "@jupyter-widgets/controls",
       "_model_module_version": "2.0.0",
       "_model_name": "HTMLStyleModel",
       "_view_count": null,
       "_view_module": "@jupyter-widgets/base",
       "_view_module_version": "2.0.0",
       "_view_name": "StyleView",
       "background": null,
       "description_width": "",
       "font_size": null,
       "text_color": null
      }
     },
     "951b0766bb774148a5c319e192e295c8": {
      "model_module": "@jupyter-widgets/base",
      "model_module_version": "2.0.0",
      "model_name": "LayoutModel",
      "state": {
       "_model_module": "@jupyter-widgets/base",
       "_model_module_version": "2.0.0",
       "_model_name": "LayoutModel",
       "_view_count": null,
       "_view_module": "@jupyter-widgets/base",
       "_view_module_version": "2.0.0",
       "_view_name": "LayoutView",
       "align_content": null,
       "align_items": null,
       "align_self": null,
       "border_bottom": null,
       "border_left": null,
       "border_right": null,
       "border_top": null,
       "bottom": null,
       "display": null,
       "flex": null,
       "flex_flow": null,
       "grid_area": null,
       "grid_auto_columns": null,
       "grid_auto_flow": null,
       "grid_auto_rows": null,
       "grid_column": null,
       "grid_gap": null,
       "grid_row": null,
       "grid_template_areas": null,
       "grid_template_columns": null,
       "grid_template_rows": null,
       "height": null,
       "justify_content": null,
       "justify_items": null,
       "left": null,
       "margin": null,
       "max_height": null,
       "max_width": null,
       "min_height": null,
       "min_width": null,
       "object_fit": null,
       "object_position": null,
       "order": null,
       "overflow": null,
       "padding": null,
       "right": null,
       "top": null,
       "visibility": null,
       "width": null
      }
     },
     "97f6efc719bb49e7bf6f7c4c014ad83b": {
      "model_module": "@jupyter-widgets/controls",
      "model_module_version": "2.0.0",
      "model_name": "HTMLModel",
      "state": {
       "_dom_classes": [],
       "_model_module": "@jupyter-widgets/controls",
       "_model_module_version": "2.0.0",
       "_model_name": "HTMLModel",
       "_view_count": null,
       "_view_module": "@jupyter-widgets/controls",
       "_view_module_version": "2.0.0",
       "_view_name": "HTMLView",
       "description": "",
       "description_allow_html": false,
       "layout": "IPY_MODEL_2847a952a1c2439d9014d84c2e5ef97d",
       "placeholder": "​",
       "style": "IPY_MODEL_25dfb355b1794078acc286a22aa13370",
       "tabbable": null,
       "tooltip": null,
       "value": " 466k/466k [00:00&lt;00:00, 2.81MB/s]"
      }
     },
     "9aefa2e1394648d5af0883ba583193dc": {
      "model_module": "@jupyter-widgets/controls",
      "model_module_version": "2.0.0",
      "model_name": "HTMLStyleModel",
      "state": {
       "_model_module": "@jupyter-widgets/controls",
       "_model_module_version": "2.0.0",
       "_model_name": "HTMLStyleModel",
       "_view_count": null,
       "_view_module": "@jupyter-widgets/base",
       "_view_module_version": "2.0.0",
       "_view_name": "StyleView",
       "background": null,
       "description_width": "",
       "font_size": null,
       "text_color": null
      }
     },
     "a2613f47cd864d79a5a13059809cd528": {
      "model_module": "@jupyter-widgets/base",
      "model_module_version": "2.0.0",
      "model_name": "LayoutModel",
      "state": {
       "_model_module": "@jupyter-widgets/base",
       "_model_module_version": "2.0.0",
       "_model_name": "LayoutModel",
       "_view_count": null,
       "_view_module": "@jupyter-widgets/base",
       "_view_module_version": "2.0.0",
       "_view_name": "LayoutView",
       "align_content": null,
       "align_items": null,
       "align_self": null,
       "border_bottom": null,
       "border_left": null,
       "border_right": null,
       "border_top": null,
       "bottom": null,
       "display": null,
       "flex": null,
       "flex_flow": null,
       "grid_area": null,
       "grid_auto_columns": null,
       "grid_auto_flow": null,
       "grid_auto_rows": null,
       "grid_column": null,
       "grid_gap": null,
       "grid_row": null,
       "grid_template_areas": null,
       "grid_template_columns": null,
       "grid_template_rows": null,
       "height": null,
       "justify_content": null,
       "justify_items": null,
       "left": null,
       "margin": null,
       "max_height": null,
       "max_width": null,
       "min_height": null,
       "min_width": null,
       "object_fit": null,
       "object_position": null,
       "order": null,
       "overflow": null,
       "padding": null,
       "right": null,
       "top": null,
       "visibility": null,
       "width": null
      }
     },
     "a438604d953b4134a486381d437b345c": {
      "model_module": "@jupyter-widgets/controls",
      "model_module_version": "2.0.0",
      "model_name": "FloatProgressModel",
      "state": {
       "_dom_classes": [],
       "_model_module": "@jupyter-widgets/controls",
       "_model_module_version": "2.0.0",
       "_model_name": "FloatProgressModel",
       "_view_count": null,
       "_view_module": "@jupyter-widgets/controls",
       "_view_module_version": "2.0.0",
       "_view_name": "ProgressView",
       "bar_style": "success",
       "description": "",
       "description_allow_html": false,
       "layout": "IPY_MODEL_252df0fc01954e22be6c2d55f0ad8c23",
       "max": 440449768.0,
       "min": 0.0,
       "orientation": "horizontal",
       "style": "IPY_MODEL_17ae490476b546d8a9071014a4fc3850",
       "tabbable": null,
       "tooltip": null,
       "value": 440449768.0
      }
     },
     "a49beae6c64042dfb9043d4063fa0b6e": {
      "model_module": "@jupyter-widgets/controls",
      "model_module_version": "2.0.0",
      "model_name": "HTMLModel",
      "state": {
       "_dom_classes": [],
       "_model_module": "@jupyter-widgets/controls",
       "_model_module_version": "2.0.0",
       "_model_name": "HTMLModel",
       "_view_count": null,
       "_view_module": "@jupyter-widgets/controls",
       "_view_module_version": "2.0.0",
       "_view_name": "HTMLView",
       "description": "",
       "description_allow_html": false,
       "layout": "IPY_MODEL_af707fe1424d429d90042c0d64ab9315",
       "placeholder": "​",
       "style": "IPY_MODEL_13e404bc318f4d24bd137dec73ab0b81",
       "tabbable": null,
       "tooltip": null,
       "value": "model.safetensors: 100%"
      }
     },
     "a4a2892619c44714b1003b75242fc5cc": {
      "model_module": "@jupyter-widgets/base",
      "model_module_version": "2.0.0",
      "model_name": "LayoutModel",
      "state": {
       "_model_module": "@jupyter-widgets/base",
       "_model_module_version": "2.0.0",
       "_model_name": "LayoutModel",
       "_view_count": null,
       "_view_module": "@jupyter-widgets/base",
       "_view_module_version": "2.0.0",
       "_view_name": "LayoutView",
       "align_content": null,
       "align_items": null,
       "align_self": null,
       "border_bottom": null,
       "border_left": null,
       "border_right": null,
       "border_top": null,
       "bottom": null,
       "display": null,
       "flex": null,
       "flex_flow": null,
       "grid_area": null,
       "grid_auto_columns": null,
       "grid_auto_flow": null,
       "grid_auto_rows": null,
       "grid_column": null,
       "grid_gap": null,
       "grid_row": null,
       "grid_template_areas": null,
       "grid_template_columns": null,
       "grid_template_rows": null,
       "height": null,
       "justify_content": null,
       "justify_items": null,
       "left": null,
       "margin": null,
       "max_height": null,
       "max_width": null,
       "min_height": null,
       "min_width": null,
       "object_fit": null,
       "object_position": null,
       "order": null,
       "overflow": null,
       "padding": null,
       "right": null,
       "top": null,
       "visibility": null,
       "width": null
      }
     },
     "a5f56e818e4a45e6a499bf285c862266": {
      "model_module": "@jupyter-widgets/controls",
      "model_module_version": "2.0.0",
      "model_name": "FloatProgressModel",
      "state": {
       "_dom_classes": [],
       "_model_module": "@jupyter-widgets/controls",
       "_model_module_version": "2.0.0",
       "_model_name": "FloatProgressModel",
       "_view_count": null,
       "_view_module": "@jupyter-widgets/controls",
       "_view_module_version": "2.0.0",
       "_view_name": "ProgressView",
       "bar_style": "success",
       "description": "",
       "description_allow_html": false,
       "layout": "IPY_MODEL_3ccb239617e949a5aa436e1155d05861",
       "max": 570.0,
       "min": 0.0,
       "orientation": "horizontal",
       "style": "IPY_MODEL_c2d88b37db774de39a96b1e8e6d123e5",
       "tabbable": null,
       "tooltip": null,
       "value": 570.0
      }
     },
     "a63a781178c64089be8ce99ca7cf6387": {
      "model_module": "@jupyter-widgets/controls",
      "model_module_version": "2.0.0",
      "model_name": "HTMLStyleModel",
      "state": {
       "_model_module": "@jupyter-widgets/controls",
       "_model_module_version": "2.0.0",
       "_model_name": "HTMLStyleModel",
       "_view_count": null,
       "_view_module": "@jupyter-widgets/base",
       "_view_module_version": "2.0.0",
       "_view_name": "StyleView",
       "background": null,
       "description_width": "",
       "font_size": null,
       "text_color": null
      }
     },
     "aa5d884150e04655a576addec9418e1e": {
      "model_module": "@jupyter-widgets/controls",
      "model_module_version": "2.0.0",
      "model_name": "HBoxModel",
      "state": {
       "_dom_classes": [],
       "_model_module": "@jupyter-widgets/controls",
       "_model_module_version": "2.0.0",
       "_model_name": "HBoxModel",
       "_view_count": null,
       "_view_module": "@jupyter-widgets/controls",
       "_view_module_version": "2.0.0",
       "_view_name": "HBoxView",
       "box_style": "",
       "children": [
        "IPY_MODEL_daf9973f468c4ac882558a172166503b",
        "IPY_MODEL_b21fb7fde3bf4b0490cc4ce5fca21d08",
        "IPY_MODEL_51dd9cf414ce4bd5809440257e424c66"
       ],
       "layout": "IPY_MODEL_f65f66cfc9d14a3993a3a7f410110b62",
       "tabbable": null,
       "tooltip": null
      }
     },
     "af707fe1424d429d90042c0d64ab9315": {
      "model_module": "@jupyter-widgets/base",
      "model_module_version": "2.0.0",
      "model_name": "LayoutModel",
      "state": {
       "_model_module": "@jupyter-widgets/base",
       "_model_module_version": "2.0.0",
       "_model_name": "LayoutModel",
       "_view_count": null,
       "_view_module": "@jupyter-widgets/base",
       "_view_module_version": "2.0.0",
       "_view_name": "LayoutView",
       "align_content": null,
       "align_items": null,
       "align_self": null,
       "border_bottom": null,
       "border_left": null,
       "border_right": null,
       "border_top": null,
       "bottom": null,
       "display": null,
       "flex": null,
       "flex_flow": null,
       "grid_area": null,
       "grid_auto_columns": null,
       "grid_auto_flow": null,
       "grid_auto_rows": null,
       "grid_column": null,
       "grid_gap": null,
       "grid_row": null,
       "grid_template_areas": null,
       "grid_template_columns": null,
       "grid_template_rows": null,
       "height": null,
       "justify_content": null,
       "justify_items": null,
       "left": null,
       "margin": null,
       "max_height": null,
       "max_width": null,
       "min_height": null,
       "min_width": null,
       "object_fit": null,
       "object_position": null,
       "order": null,
       "overflow": null,
       "padding": null,
       "right": null,
       "top": null,
       "visibility": null,
       "width": null
      }
     },
     "b21fb7fde3bf4b0490cc4ce5fca21d08": {
      "model_module": "@jupyter-widgets/controls",
      "model_module_version": "2.0.0",
      "model_name": "FloatProgressModel",
      "state": {
       "_dom_classes": [],
       "_model_module": "@jupyter-widgets/controls",
       "_model_module_version": "2.0.0",
       "_model_name": "FloatProgressModel",
       "_view_count": null,
       "_view_module": "@jupyter-widgets/controls",
       "_view_module_version": "2.0.0",
       "_view_name": "ProgressView",
       "bar_style": "success",
       "description": "",
       "description_allow_html": false,
       "layout": "IPY_MODEL_dfdc24d4936d45ea9ba0a8a17daae71c",
       "max": 231508.0,
       "min": 0.0,
       "orientation": "horizontal",
       "style": "IPY_MODEL_6d7e3a4e13ab4bba91adf26c737292dd",
       "tabbable": null,
       "tooltip": null,
       "value": 231508.0
      }
     },
     "b317b408bb0a45d3868cddcb26172923": {
      "model_module": "@jupyter-widgets/controls",
      "model_module_version": "2.0.0",
      "model_name": "HTMLModel",
      "state": {
       "_dom_classes": [],
       "_model_module": "@jupyter-widgets/controls",
       "_model_module_version": "2.0.0",
       "_model_name": "HTMLModel",
       "_view_count": null,
       "_view_module": "@jupyter-widgets/controls",
       "_view_module_version": "2.0.0",
       "_view_name": "HTMLView",
       "description": "",
       "description_allow_html": false,
       "layout": "IPY_MODEL_c0ec39c51a9547dfa20cc3946c88c2a5",
       "placeholder": "​",
       "style": "IPY_MODEL_b63831cf053b4fd39f3290fccfe82385",
       "tabbable": null,
       "tooltip": null,
       "value": "tokenizer.json: 100%"
      }
     },
     "b63831cf053b4fd39f3290fccfe82385": {
      "model_module": "@jupyter-widgets/controls",
      "model_module_version": "2.0.0",
      "model_name": "HTMLStyleModel",
      "state": {
       "_model_module": "@jupyter-widgets/controls",
       "_model_module_version": "2.0.0",
       "_model_name": "HTMLStyleModel",
       "_view_count": null,
       "_view_module": "@jupyter-widgets/base",
       "_view_module_version": "2.0.0",
       "_view_name": "StyleView",
       "background": null,
       "description_width": "",
       "font_size": null,
       "text_color": null
      }
     },
     "be305880878a4e928cbae274e2cf84bc": {
      "model_module": "@jupyter-widgets/base",
      "model_module_version": "2.0.0",
      "model_name": "LayoutModel",
      "state": {
       "_model_module": "@jupyter-widgets/base",
       "_model_module_version": "2.0.0",
       "_model_name": "LayoutModel",
       "_view_count": null,
       "_view_module": "@jupyter-widgets/base",
       "_view_module_version": "2.0.0",
       "_view_name": "LayoutView",
       "align_content": null,
       "align_items": null,
       "align_self": null,
       "border_bottom": null,
       "border_left": null,
       "border_right": null,
       "border_top": null,
       "bottom": null,
       "display": null,
       "flex": null,
       "flex_flow": null,
       "grid_area": null,
       "grid_auto_columns": null,
       "grid_auto_flow": null,
       "grid_auto_rows": null,
       "grid_column": null,
       "grid_gap": null,
       "grid_row": null,
       "grid_template_areas": null,
       "grid_template_columns": null,
       "grid_template_rows": null,
       "height": null,
       "justify_content": null,
       "justify_items": null,
       "left": null,
       "margin": null,
       "max_height": null,
       "max_width": null,
       "min_height": null,
       "min_width": null,
       "object_fit": null,
       "object_position": null,
       "order": null,
       "overflow": null,
       "padding": null,
       "right": null,
       "top": null,
       "visibility": null,
       "width": null
      }
     },
     "c0ec39c51a9547dfa20cc3946c88c2a5": {
      "model_module": "@jupyter-widgets/base",
      "model_module_version": "2.0.0",
      "model_name": "LayoutModel",
      "state": {
       "_model_module": "@jupyter-widgets/base",
       "_model_module_version": "2.0.0",
       "_model_name": "LayoutModel",
       "_view_count": null,
       "_view_module": "@jupyter-widgets/base",
       "_view_module_version": "2.0.0",
       "_view_name": "LayoutView",
       "align_content": null,
       "align_items": null,
       "align_self": null,
       "border_bottom": null,
       "border_left": null,
       "border_right": null,
       "border_top": null,
       "bottom": null,
       "display": null,
       "flex": null,
       "flex_flow": null,
       "grid_area": null,
       "grid_auto_columns": null,
       "grid_auto_flow": null,
       "grid_auto_rows": null,
       "grid_column": null,
       "grid_gap": null,
       "grid_row": null,
       "grid_template_areas": null,
       "grid_template_columns": null,
       "grid_template_rows": null,
       "height": null,
       "justify_content": null,
       "justify_items": null,
       "left": null,
       "margin": null,
       "max_height": null,
       "max_width": null,
       "min_height": null,
       "min_width": null,
       "object_fit": null,
       "object_position": null,
       "order": null,
       "overflow": null,
       "padding": null,
       "right": null,
       "top": null,
       "visibility": null,
       "width": null
      }
     },
     "c209de962adc4a29b55559040c68140e": {
      "model_module": "@jupyter-widgets/base",
      "model_module_version": "2.0.0",
      "model_name": "LayoutModel",
      "state": {
       "_model_module": "@jupyter-widgets/base",
       "_model_module_version": "2.0.0",
       "_model_name": "LayoutModel",
       "_view_count": null,
       "_view_module": "@jupyter-widgets/base",
       "_view_module_version": "2.0.0",
       "_view_name": "LayoutView",
       "align_content": null,
       "align_items": null,
       "align_self": null,
       "border_bottom": null,
       "border_left": null,
       "border_right": null,
       "border_top": null,
       "bottom": null,
       "display": null,
       "flex": null,
       "flex_flow": null,
       "grid_area": null,
       "grid_auto_columns": null,
       "grid_auto_flow": null,
       "grid_auto_rows": null,
       "grid_column": null,
       "grid_gap": null,
       "grid_row": null,
       "grid_template_areas": null,
       "grid_template_columns": null,
       "grid_template_rows": null,
       "height": null,
       "justify_content": null,
       "justify_items": null,
       "left": null,
       "margin": null,
       "max_height": null,
       "max_width": null,
       "min_height": null,
       "min_width": null,
       "object_fit": null,
       "object_position": null,
       "order": null,
       "overflow": null,
       "padding": null,
       "right": null,
       "top": null,
       "visibility": null,
       "width": null
      }
     },
     "c2d88b37db774de39a96b1e8e6d123e5": {
      "model_module": "@jupyter-widgets/controls",
      "model_module_version": "2.0.0",
      "model_name": "ProgressStyleModel",
      "state": {
       "_model_module": "@jupyter-widgets/controls",
       "_model_module_version": "2.0.0",
       "_model_name": "ProgressStyleModel",
       "_view_count": null,
       "_view_module": "@jupyter-widgets/base",
       "_view_module_version": "2.0.0",
       "_view_name": "StyleView",
       "bar_color": null,
       "description_width": ""
      }
     },
     "c68980d5ec4c41b2baf2af9029687c04": {
      "model_module": "@jupyter-widgets/base",
      "model_module_version": "2.0.0",
      "model_name": "LayoutModel",
      "state": {
       "_model_module": "@jupyter-widgets/base",
       "_model_module_version": "2.0.0",
       "_model_name": "LayoutModel",
       "_view_count": null,
       "_view_module": "@jupyter-widgets/base",
       "_view_module_version": "2.0.0",
       "_view_name": "LayoutView",
       "align_content": null,
       "align_items": null,
       "align_self": null,
       "border_bottom": null,
       "border_left": null,
       "border_right": null,
       "border_top": null,
       "bottom": null,
       "display": null,
       "flex": null,
       "flex_flow": null,
       "grid_area": null,
       "grid_auto_columns": null,
       "grid_auto_flow": null,
       "grid_auto_rows": null,
       "grid_column": null,
       "grid_gap": null,
       "grid_row": null,
       "grid_template_areas": null,
       "grid_template_columns": null,
       "grid_template_rows": null,
       "height": null,
       "justify_content": null,
       "justify_items": null,
       "left": null,
       "margin": null,
       "max_height": null,
       "max_width": null,
       "min_height": null,
       "min_width": null,
       "object_fit": null,
       "object_position": null,
       "order": null,
       "overflow": null,
       "padding": null,
       "right": null,
       "top": null,
       "visibility": null,
       "width": null
      }
     },
     "cd9a4958fbbb41969bf2783a6a92a949": {
      "model_module": "@jupyter-widgets/controls",
      "model_module_version": "2.0.0",
      "model_name": "HTMLModel",
      "state": {
       "_dom_classes": [],
       "_model_module": "@jupyter-widgets/controls",
       "_model_module_version": "2.0.0",
       "_model_name": "HTMLModel",
       "_view_count": null,
       "_view_module": "@jupyter-widgets/controls",
       "_view_module_version": "2.0.0",
       "_view_name": "HTMLView",
       "description": "",
       "description_allow_html": false,
       "layout": "IPY_MODEL_c68980d5ec4c41b2baf2af9029687c04",
       "placeholder": "​",
       "style": "IPY_MODEL_126f715121e74a4cb40d036d090fe6e1",
       "tabbable": null,
       "tooltip": null,
       "value": " 48.0/48.0 [00:00&lt;00:00, 3.73kB/s]"
      }
     },
     "cff66f3238ee49b5862fc792054eafda": {
      "model_module": "@jupyter-widgets/base",
      "model_module_version": "2.0.0",
      "model_name": "LayoutModel",
      "state": {
       "_model_module": "@jupyter-widgets/base",
       "_model_module_version": "2.0.0",
       "_model_name": "LayoutModel",
       "_view_count": null,
       "_view_module": "@jupyter-widgets/base",
       "_view_module_version": "2.0.0",
       "_view_name": "LayoutView",
       "align_content": null,
       "align_items": null,
       "align_self": null,
       "border_bottom": null,
       "border_left": null,
       "border_right": null,
       "border_top": null,
       "bottom": null,
       "display": null,
       "flex": null,
       "flex_flow": null,
       "grid_area": null,
       "grid_auto_columns": null,
       "grid_auto_flow": null,
       "grid_auto_rows": null,
       "grid_column": null,
       "grid_gap": null,
       "grid_row": null,
       "grid_template_areas": null,
       "grid_template_columns": null,
       "grid_template_rows": null,
       "height": null,
       "justify_content": null,
       "justify_items": null,
       "left": null,
       "margin": null,
       "max_height": null,
       "max_width": null,
       "min_height": null,
       "min_width": null,
       "object_fit": null,
       "object_position": null,
       "order": null,
       "overflow": null,
       "padding": null,
       "right": null,
       "top": null,
       "visibility": null,
       "width": null
      }
     },
     "daf9973f468c4ac882558a172166503b": {
      "model_module": "@jupyter-widgets/controls",
      "model_module_version": "2.0.0",
      "model_name": "HTMLModel",
      "state": {
       "_dom_classes": [],
       "_model_module": "@jupyter-widgets/controls",
       "_model_module_version": "2.0.0",
       "_model_name": "HTMLModel",
       "_view_count": null,
       "_view_module": "@jupyter-widgets/controls",
       "_view_module_version": "2.0.0",
       "_view_name": "HTMLView",
       "description": "",
       "description_allow_html": false,
       "layout": "IPY_MODEL_be305880878a4e928cbae274e2cf84bc",
       "placeholder": "​",
       "style": "IPY_MODEL_a63a781178c64089be8ce99ca7cf6387",
       "tabbable": null,
       "tooltip": null,
       "value": "vocab.txt: 100%"
      }
     },
     "dfdc24d4936d45ea9ba0a8a17daae71c": {
      "model_module": "@jupyter-widgets/base",
      "model_module_version": "2.0.0",
      "model_name": "LayoutModel",
      "state": {
       "_model_module": "@jupyter-widgets/base",
       "_model_module_version": "2.0.0",
       "_model_name": "LayoutModel",
       "_view_count": null,
       "_view_module": "@jupyter-widgets/base",
       "_view_module_version": "2.0.0",
       "_view_name": "LayoutView",
       "align_content": null,
       "align_items": null,
       "align_self": null,
       "border_bottom": null,
       "border_left": null,
       "border_right": null,
       "border_top": null,
       "bottom": null,
       "display": null,
       "flex": null,
       "flex_flow": null,
       "grid_area": null,
       "grid_auto_columns": null,
       "grid_auto_flow": null,
       "grid_auto_rows": null,
       "grid_column": null,
       "grid_gap": null,
       "grid_row": null,
       "grid_template_areas": null,
       "grid_template_columns": null,
       "grid_template_rows": null,
       "height": null,
       "justify_content": null,
       "justify_items": null,
       "left": null,
       "margin": null,
       "max_height": null,
       "max_width": null,
       "min_height": null,
       "min_width": null,
       "object_fit": null,
       "object_position": null,
       "order": null,
       "overflow": null,
       "padding": null,
       "right": null,
       "top": null,
       "visibility": null,
       "width": null
      }
     },
     "e7bc65df703e46f4a48b27f7bb5c575e": {
      "model_module": "@jupyter-widgets/base",
      "model_module_version": "2.0.0",
      "model_name": "LayoutModel",
      "state": {
       "_model_module": "@jupyter-widgets/base",
       "_model_module_version": "2.0.0",
       "_model_name": "LayoutModel",
       "_view_count": null,
       "_view_module": "@jupyter-widgets/base",
       "_view_module_version": "2.0.0",
       "_view_name": "LayoutView",
       "align_content": null,
       "align_items": null,
       "align_self": null,
       "border_bottom": null,
       "border_left": null,
       "border_right": null,
       "border_top": null,
       "bottom": null,
       "display": null,
       "flex": null,
       "flex_flow": null,
       "grid_area": null,
       "grid_auto_columns": null,
       "grid_auto_flow": null,
       "grid_auto_rows": null,
       "grid_column": null,
       "grid_gap": null,
       "grid_row": null,
       "grid_template_areas": null,
       "grid_template_columns": null,
       "grid_template_rows": null,
       "height": null,
       "justify_content": null,
       "justify_items": null,
       "left": null,
       "margin": null,
       "max_height": null,
       "max_width": null,
       "min_height": null,
       "min_width": null,
       "object_fit": null,
       "object_position": null,
       "order": null,
       "overflow": null,
       "padding": null,
       "right": null,
       "top": null,
       "visibility": null,
       "width": null
      }
     },
     "e83878a82d014846a062e5093a5f8cc9": {
      "model_module": "@jupyter-widgets/controls",
      "model_module_version": "2.0.0",
      "model_name": "HTMLStyleModel",
      "state": {
       "_model_module": "@jupyter-widgets/controls",
       "_model_module_version": "2.0.0",
       "_model_name": "HTMLStyleModel",
       "_view_count": null,
       "_view_module": "@jupyter-widgets/base",
       "_view_module_version": "2.0.0",
       "_view_name": "StyleView",
       "background": null,
       "description_width": "",
       "font_size": null,
       "text_color": null
      }
     },
     "eabfdf4c20b7490486acf513e692211c": {
      "model_module": "@jupyter-widgets/controls",
      "model_module_version": "2.0.0",
      "model_name": "HBoxModel",
      "state": {
       "_dom_classes": [],
       "_model_module": "@jupyter-widgets/controls",
       "_model_module_version": "2.0.0",
       "_model_name": "HBoxModel",
       "_view_count": null,
       "_view_module": "@jupyter-widgets/controls",
       "_view_module_version": "2.0.0",
       "_view_name": "HBoxView",
       "box_style": "",
       "children": [
        "IPY_MODEL_681344e06da6456193497eb44d5ac0bf",
        "IPY_MODEL_a5f56e818e4a45e6a499bf285c862266",
        "IPY_MODEL_43f23511761344c099ec5986187e15eb"
       ],
       "layout": "IPY_MODEL_cff66f3238ee49b5862fc792054eafda",
       "tabbable": null,
       "tooltip": null
      }
     },
     "f65f66cfc9d14a3993a3a7f410110b62": {
      "model_module": "@jupyter-widgets/base",
      "model_module_version": "2.0.0",
      "model_name": "LayoutModel",
      "state": {
       "_model_module": "@jupyter-widgets/base",
       "_model_module_version": "2.0.0",
       "_model_name": "LayoutModel",
       "_view_count": null,
       "_view_module": "@jupyter-widgets/base",
       "_view_module_version": "2.0.0",
       "_view_name": "LayoutView",
       "align_content": null,
       "align_items": null,
       "align_self": null,
       "border_bottom": null,
       "border_left": null,
       "border_right": null,
       "border_top": null,
       "bottom": null,
       "display": null,
       "flex": null,
       "flex_flow": null,
       "grid_area": null,
       "grid_auto_columns": null,
       "grid_auto_flow": null,
       "grid_auto_rows": null,
       "grid_column": null,
       "grid_gap": null,
       "grid_row": null,
       "grid_template_areas": null,
       "grid_template_columns": null,
       "grid_template_rows": null,
       "height": null,
       "justify_content": null,
       "justify_items": null,
       "left": null,
       "margin": null,
       "max_height": null,
       "max_width": null,
       "min_height": null,
       "min_width": null,
       "object_fit": null,
       "object_position": null,
       "order": null,
       "overflow": null,
       "padding": null,
       "right": null,
       "top": null,
       "visibility": null,
       "width": null
      }
     }
    },
    "version_major": 2,
    "version_minor": 0
   }
  }
 },
 "nbformat": 4,
 "nbformat_minor": 5
}
