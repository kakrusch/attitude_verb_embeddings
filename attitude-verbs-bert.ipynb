{
 "cells": [
  {
   "cell_type": "code",
   "execution_count": 1,
   "id": "e9edb731",
   "metadata": {
    "ExecuteTime": {
     "end_time": "2025-05-14T19:30:56.356386Z",
     "start_time": "2025-05-14T19:29:21.013453Z"
    },
    "execution": {
     "iopub.execute_input": "2025-05-23T09:06:58.171394Z",
     "iopub.status.busy": "2025-05-23T09:06:58.171046Z",
     "iopub.status.idle": "2025-05-23T09:06:58.176541Z",
     "shell.execute_reply": "2025-05-23T09:06:58.175536Z"
    },
    "papermill": {
     "duration": 0.01316,
     "end_time": "2025-05-23T09:06:58.178399",
     "exception": false,
     "start_time": "2025-05-23T09:06:58.165239",
     "status": "completed"
    },
    "tags": []
   },
   "outputs": [],
   "source": [
    "#!pip install transformers\n",
    "\n",
    "#!pip install torch"
   ]
  },
  {
   "cell_type": "code",
   "execution_count": 2,
   "id": "ac007949",
   "metadata": {
    "ExecuteTime": {
     "end_time": "2025-05-14T20:06:11.267932Z",
     "start_time": "2025-05-14T20:06:11.092273Z"
    },
    "execution": {
     "iopub.execute_input": "2025-05-23T09:06:58.187123Z",
     "iopub.status.busy": "2025-05-23T09:06:58.186816Z",
     "iopub.status.idle": "2025-05-23T09:07:40.166435Z",
     "shell.execute_reply": "2025-05-23T09:07:40.165218Z"
    },
    "papermill": {
     "duration": 41.985879,
     "end_time": "2025-05-23T09:07:40.168169",
     "exception": false,
     "start_time": "2025-05-23T09:06:58.182290",
     "status": "completed"
    },
    "tags": []
   },
   "outputs": [
    {
     "name": "stderr",
     "output_type": "stream",
     "text": [
      "2025-05-23 09:07:21.291757: E external/local_xla/xla/stream_executor/cuda/cuda_fft.cc:477] Unable to register cuFFT factory: Attempting to register factory for plugin cuFFT when one has already been registered\n",
      "WARNING: All log messages before absl::InitializeLog() is called are written to STDERR\n",
      "E0000 00:00:1747991241.549867      13 cuda_dnn.cc:8310] Unable to register cuDNN factory: Attempting to register factory for plugin cuDNN when one has already been registered\n",
      "E0000 00:00:1747991241.628128      13 cuda_blas.cc:1418] Unable to register cuBLAS factory: Attempting to register factory for plugin cuBLAS when one has already been registered\n"
     ]
    }
   ],
   "source": [
    "from transformers import BertModel, BertTokenizerFast, BertForMaskedLM, BertForPreTraining\n",
    "\n",
    "import torch\n",
    "\n",
    "import pandas as pd"
   ]
  },
  {
   "cell_type": "code",
   "execution_count": 3,
   "id": "6bdb4645",
   "metadata": {
    "ExecuteTime": {
     "end_time": "2025-05-14T20:06:14.743346Z",
     "start_time": "2025-05-14T20:06:14.451538Z"
    },
    "execution": {
     "iopub.execute_input": "2025-05-23T09:07:40.177497Z",
     "iopub.status.busy": "2025-05-23T09:07:40.176850Z",
     "iopub.status.idle": "2025-05-23T09:07:45.508520Z",
     "shell.execute_reply": "2025-05-23T09:07:45.507539Z"
    },
    "papermill": {
     "duration": 5.338147,
     "end_time": "2025-05-23T09:07:45.510370",
     "exception": false,
     "start_time": "2025-05-23T09:07:40.172223",
     "status": "completed"
    },
    "tags": []
   },
   "outputs": [
    {
     "data": {
      "application/vnd.jupyter.widget-view+json": {
       "model_id": "94798baa75274b348ababa955e5e9cc8",
       "version_major": 2,
       "version_minor": 0
      },
      "text/plain": [
       "tokenizer_config.json:   0%|          | 0.00/48.0 [00:00<?, ?B/s]"
      ]
     },
     "metadata": {},
     "output_type": "display_data"
    },
    {
     "data": {
      "application/vnd.jupyter.widget-view+json": {
       "model_id": "f2a2c9b36abb4bc8a9293256b1af8147",
       "version_major": 2,
       "version_minor": 0
      },
      "text/plain": [
       "vocab.txt:   0%|          | 0.00/232k [00:00<?, ?B/s]"
      ]
     },
     "metadata": {},
     "output_type": "display_data"
    },
    {
     "data": {
      "application/vnd.jupyter.widget-view+json": {
       "model_id": "ebc5b936936e4794a2499481b613cea0",
       "version_major": 2,
       "version_minor": 0
      },
      "text/plain": [
       "tokenizer.json:   0%|          | 0.00/466k [00:00<?, ?B/s]"
      ]
     },
     "metadata": {},
     "output_type": "display_data"
    },
    {
     "data": {
      "application/vnd.jupyter.widget-view+json": {
       "model_id": "ce0017e2ec314f068caed560d1cd966d",
       "version_major": 2,
       "version_minor": 0
      },
      "text/plain": [
       "config.json:   0%|          | 0.00/570 [00:00<?, ?B/s]"
      ]
     },
     "metadata": {},
     "output_type": "display_data"
    },
    {
     "data": {
      "application/vnd.jupyter.widget-view+json": {
       "model_id": "cf101db75eaf40ee828a2654302d866f",
       "version_major": 2,
       "version_minor": 0
      },
      "text/plain": [
       "model.safetensors:   0%|          | 0.00/440M [00:00<?, ?B/s]"
      ]
     },
     "metadata": {},
     "output_type": "display_data"
    },
    {
     "data": {
      "text/plain": [
       "BertForPreTraining(\n",
       "  (bert): BertModel(\n",
       "    (embeddings): BertEmbeddings(\n",
       "      (word_embeddings): Embedding(30522, 768, padding_idx=0)\n",
       "      (position_embeddings): Embedding(512, 768)\n",
       "      (token_type_embeddings): Embedding(2, 768)\n",
       "      (LayerNorm): LayerNorm((768,), eps=1e-12, elementwise_affine=True)\n",
       "      (dropout): Dropout(p=0.1, inplace=False)\n",
       "    )\n",
       "    (encoder): BertEncoder(\n",
       "      (layer): ModuleList(\n",
       "        (0-11): 12 x BertLayer(\n",
       "          (attention): BertAttention(\n",
       "            (self): BertSdpaSelfAttention(\n",
       "              (query): Linear(in_features=768, out_features=768, bias=True)\n",
       "              (key): Linear(in_features=768, out_features=768, bias=True)\n",
       "              (value): Linear(in_features=768, out_features=768, bias=True)\n",
       "              (dropout): Dropout(p=0.1, inplace=False)\n",
       "            )\n",
       "            (output): BertSelfOutput(\n",
       "              (dense): Linear(in_features=768, out_features=768, bias=True)\n",
       "              (LayerNorm): LayerNorm((768,), eps=1e-12, elementwise_affine=True)\n",
       "              (dropout): Dropout(p=0.1, inplace=False)\n",
       "            )\n",
       "          )\n",
       "          (intermediate): BertIntermediate(\n",
       "            (dense): Linear(in_features=768, out_features=3072, bias=True)\n",
       "            (intermediate_act_fn): GELUActivation()\n",
       "          )\n",
       "          (output): BertOutput(\n",
       "            (dense): Linear(in_features=3072, out_features=768, bias=True)\n",
       "            (LayerNorm): LayerNorm((768,), eps=1e-12, elementwise_affine=True)\n",
       "            (dropout): Dropout(p=0.1, inplace=False)\n",
       "          )\n",
       "        )\n",
       "      )\n",
       "    )\n",
       "    (pooler): BertPooler(\n",
       "      (dense): Linear(in_features=768, out_features=768, bias=True)\n",
       "      (activation): Tanh()\n",
       "    )\n",
       "  )\n",
       "  (cls): BertPreTrainingHeads(\n",
       "    (predictions): BertLMPredictionHead(\n",
       "      (transform): BertPredictionHeadTransform(\n",
       "        (dense): Linear(in_features=768, out_features=768, bias=True)\n",
       "        (transform_act_fn): GELUActivation()\n",
       "        (LayerNorm): LayerNorm((768,), eps=1e-12, elementwise_affine=True)\n",
       "      )\n",
       "      (decoder): Linear(in_features=768, out_features=30522, bias=True)\n",
       "    )\n",
       "    (seq_relationship): Linear(in_features=768, out_features=2, bias=True)\n",
       "  )\n",
       ")"
      ]
     },
     "execution_count": 3,
     "metadata": {},
     "output_type": "execute_result"
    }
   ],
   "source": [
    "tokenizer = BertTokenizerFast.from_pretrained(\"bert-base-uncased\", return_special_tokens_mask=True)\n",
    "\n",
    "\n",
    "#  for MaskedLM allows MLM task\n",
    "#model = BertForMaskedLM.from_pretrained(\"bert-base-uncased\", output_hidden_states = True) \n",
    "\n",
    "# model for both MLM and NSP tasks\n",
    "model = BertForPreTraining.from_pretrained(\"bert-base-uncased\", output_hidden_states = True)\n",
    "\n",
    "# does this properly import the weights???\n",
    "\n",
    "\n",
    "# Set model to evaluation mode\n",
    "model.eval()"
   ]
  },
  {
   "cell_type": "code",
   "execution_count": 4,
   "id": "44112d31",
   "metadata": {
    "execution": {
     "iopub.execute_input": "2025-05-23T09:07:45.528021Z",
     "iopub.status.busy": "2025-05-23T09:07:45.527662Z",
     "iopub.status.idle": "2025-05-23T09:07:45.538292Z",
     "shell.execute_reply": "2025-05-23T09:07:45.537260Z"
    },
    "papermill": {
     "duration": 0.021262,
     "end_time": "2025-05-23T09:07:45.540086",
     "exception": false,
     "start_time": "2025-05-23T09:07:45.518824",
     "status": "completed"
    },
    "tags": []
   },
   "outputs": [
    {
     "name": "stdout",
     "output_type": "stream",
     "text": [
      "[101, 2332, 102]\n",
      "[CLS] king [SEP]\n"
     ]
    }
   ],
   "source": [
    "#tokenizer\n",
    "\n",
    "enc = tokenizer.encode(\"king\")\n",
    "\n",
    "print(enc)\n",
    "\n",
    "print(tokenizer.decode(enc))"
   ]
  },
  {
   "cell_type": "code",
   "execution_count": 5,
   "id": "66fafae6",
   "metadata": {
    "execution": {
     "iopub.execute_input": "2025-05-23T09:07:45.556363Z",
     "iopub.status.busy": "2025-05-23T09:07:45.555981Z",
     "iopub.status.idle": "2025-05-23T09:07:45.563014Z",
     "shell.execute_reply": "2025-05-23T09:07:45.561844Z"
    },
    "papermill": {
     "duration": 0.016796,
     "end_time": "2025-05-23T09:07:45.565189",
     "exception": false,
     "start_time": "2025-05-23T09:07:45.548393",
     "status": "completed"
    },
    "tags": []
   },
   "outputs": [
    {
     "name": "stdout",
     "output_type": "stream",
     "text": [
      "[101, 1037, 2332, 7529, 2121, 2001, 7282, 103, 1996, 2697, 1012, 102]\n",
      "[CLS] a kingfisher was spotted [MASK] the lake. [SEP]\n",
      "king\n",
      "##fish\n",
      "##er\n",
      ".\n"
     ]
    }
   ],
   "source": [
    "test_sentence = \"A kingfisher was spotted [MASK] the lake.\"\n",
    "\n",
    "dec = tokenizer.encode(test_sentence)\n",
    "\n",
    "print(dec)\n",
    "\n",
    "print(tokenizer.decode(dec))\n",
    "\n",
    "print(tokenizer.decode(dec[2]))\n",
    "print(tokenizer.decode(dec[3]))\n",
    "print(tokenizer.decode(dec[4]))\n",
    "\n",
    "print(tokenizer.decode(dec[10]))"
   ]
  },
  {
   "cell_type": "markdown",
   "id": "3b6f70c7",
   "metadata": {
    "papermill": {
     "duration": 0.007666,
     "end_time": "2025-05-23T09:07:45.580937",
     "exception": false,
     "start_time": "2025-05-23T09:07:45.573271",
     "status": "completed"
    },
    "tags": []
   },
   "source": [
    "# MLM"
   ]
  },
  {
   "cell_type": "code",
   "execution_count": 6,
   "id": "ea7b9b07",
   "metadata": {
    "execution": {
     "iopub.execute_input": "2025-05-23T09:07:45.598077Z",
     "iopub.status.busy": "2025-05-23T09:07:45.597156Z",
     "iopub.status.idle": "2025-05-23T09:07:45.639466Z",
     "shell.execute_reply": "2025-05-23T09:07:45.638400Z"
    },
    "papermill": {
     "duration": 0.053309,
     "end_time": "2025-05-23T09:07:45.641562",
     "exception": false,
     "start_time": "2025-05-23T09:07:45.588253",
     "status": "completed"
    },
    "tags": []
   },
   "outputs": [],
   "source": [
    "# create MLM data\n",
    "\n",
    "df = pd.read_csv(\"/kaggle/input/test-clauses/embedded_clauses_variants.csv\")\n",
    "\n",
    "sent_type_dict = {}\n",
    "\n",
    "for clause_type in df[\"Clause Type\"].unique():\n",
    "    sentences = df[df[\"Clause Type\"] == clause_type][\"Embedded Clause\"].tolist()\n",
    "    sent_type_dict[clause_type] = sentences\n",
    "\n",
    "\n",
    "#print(sent_type_dict)"
   ]
  },
  {
   "cell_type": "code",
   "execution_count": 7,
   "id": "71dc1410",
   "metadata": {
    "execution": {
     "iopub.execute_input": "2025-05-23T09:07:45.658602Z",
     "iopub.status.busy": "2025-05-23T09:07:45.657770Z",
     "iopub.status.idle": "2025-05-23T09:07:45.663674Z",
     "shell.execute_reply": "2025-05-23T09:07:45.662124Z"
    },
    "papermill": {
     "duration": 0.016512,
     "end_time": "2025-05-23T09:07:45.665922",
     "exception": false,
     "start_time": "2025-05-23T09:07:45.649410",
     "status": "completed"
    },
    "tags": []
   },
   "outputs": [],
   "source": [
    "#print(df)\n",
    "\n",
    "for clause_type in sent_type_dict:\n",
    "    sent_type_dict[clause_type] = [f\"Mary X {x}\" for x in sent_type_dict[clause_type]]\n",
    "\n",
    "\n",
    "\n",
    "\n",
    "#for clause_type in clause_dict:\n",
    " #   clause_dict[clause_type] = [\n",
    "  #      f\"Mary X {sentence}\" for sentence in clause_dict[clause_type]\n",
    "   # ]\n",
    "#print(sent_type_dict)"
   ]
  },
  {
   "cell_type": "code",
   "execution_count": 8,
   "id": "09c5e9e5",
   "metadata": {
    "execution": {
     "iopub.execute_input": "2025-05-23T09:07:45.682972Z",
     "iopub.status.busy": "2025-05-23T09:07:45.682275Z",
     "iopub.status.idle": "2025-05-23T09:07:45.687742Z",
     "shell.execute_reply": "2025-05-23T09:07:45.686548Z"
    },
    "papermill": {
     "duration": 0.015778,
     "end_time": "2025-05-23T09:07:45.689514",
     "exception": false,
     "start_time": "2025-05-23T09:07:45.673736",
     "status": "completed"
    },
    "tags": []
   },
   "outputs": [],
   "source": [
    "# target sentences\n",
    "\n",
    "l1 = [\"Ann X that Max read a book.\", \"Ann X that it was raining.\", \"Ann X that Max won the game\"]\n",
    "\n",
    "l2 = [\"Ann X which book Max read.\", \"Ann X what time it was raining\", \"Ann X which dog won the game\"]\n",
    "\n",
    "mlm_sentences = [\n",
    "    \"The Eiffel Tower is located in [MASK].\",\n",
    "    \"The Eiffel Tower is located in [MASK] [MASK].\",\n",
    "    \"The Eiffel Tower is located in [MASK] [MASK] [MASK].\",\n",
    "    \"Water boils at [MASK] degrees Celsius.\",\n",
    "    \"Water appears [MASK] be boiling\",\n",
    "    \"Water appears [MASK] [MASK] boiling\"\n",
    "]"
   ]
  },
  {
   "cell_type": "code",
   "execution_count": 9,
   "id": "32323b48",
   "metadata": {
    "execution": {
     "iopub.execute_input": "2025-05-23T09:07:45.700049Z",
     "iopub.status.busy": "2025-05-23T09:07:45.699749Z",
     "iopub.status.idle": "2025-05-23T09:07:45.707093Z",
     "shell.execute_reply": "2025-05-23T09:07:45.706014Z"
    },
    "papermill": {
     "duration": 0.014663,
     "end_time": "2025-05-23T09:07:45.708963",
     "exception": false,
     "start_time": "2025-05-23T09:07:45.694300",
     "status": "completed"
    },
    "tags": []
   },
   "outputs": [],
   "source": [
    "# predict top_k tokens\n",
    "\n",
    "def mlm_for_lists(sentence_list, top_k=1):\n",
    "    predictions = []\n",
    "\n",
    "    for sent_base in sentence_list:\n",
    "        sent = sent_base.replace(\" X \", \" [MASK] \") # replace X with masked token\n",
    "        inputs = tokenizer(sent, return_tensors=\"pt\")\n",
    "        \n",
    "        mask_indices = torch.where(inputs[\"input_ids\"] == tokenizer.mask_token_id)[1]\n",
    "\n",
    "\n",
    "        with torch.no_grad():\n",
    "            outputs = model(**inputs)\n",
    "            mlm_logits = outputs.prediction_logits\n",
    "\n",
    "\n",
    "        for mask_index in mask_indices:\n",
    "            logits = mlm_logits[0, mask_index, :]\n",
    "            top_k_ids = torch.topk(logits, top_k).indices.tolist()\n",
    "            top_k_tokens = tokenizer.convert_ids_to_tokens(top_k_ids)\n",
    "        \n",
    "\n",
    "        predictions += top_k_tokens #predicted_tokens\n",
    "        \n",
    "        #print(f\"Input: {sent}\")\n",
    "        #print(f\"Predicted: {top_k_tokens}\")\n",
    "        #print()\n",
    "\n",
    "    return predictions\n",
    "\n",
    "\n",
    "def pred_dict_maker(type_dict):\n",
    "    pred_dict = {}\n",
    "    \n",
    "    for key, value in type_dict.items():\n",
    "        pred_dict[key] = mlm_for_lists(value)\n",
    "\n",
    "    return pred_dict\n",
    "\n",
    "\n"
   ]
  },
  {
   "cell_type": "code",
   "execution_count": 10,
   "id": "1afbcadb",
   "metadata": {
    "execution": {
     "iopub.execute_input": "2025-05-23T09:07:45.720764Z",
     "iopub.status.busy": "2025-05-23T09:07:45.720340Z",
     "iopub.status.idle": "2025-05-23T09:08:02.988528Z",
     "shell.execute_reply": "2025-05-23T09:08:02.987534Z"
    },
    "papermill": {
     "duration": 17.276552,
     "end_time": "2025-05-23T09:08:02.990457",
     "exception": false,
     "start_time": "2025-05-23T09:07:45.713905",
     "status": "completed"
    },
    "tags": []
   },
   "outputs": [],
   "source": [
    "pred_dict = pred_dict_maker(sent_type_dict)\n",
    "#print(pred_dict)\n",
    "\n",
    "#predictions_l1 = mlm_for_lists(l1)\n",
    "\n",
    "#predictions_l2 = mlm_for_lists(l2)\n",
    "\n",
    "#print(set(predictions_l1))\n",
    "\n",
    "#print(set(predictions_l2))\n",
    "\n",
    "# the different predictions are single tokens, and cannot be uniformed via .tokenize()\n"
   ]
  },
  {
   "cell_type": "code",
   "execution_count": 11,
   "id": "c3d82290",
   "metadata": {
    "execution": {
     "iopub.execute_input": "2025-05-23T09:08:03.001574Z",
     "iopub.status.busy": "2025-05-23T09:08:03.001253Z",
     "iopub.status.idle": "2025-05-23T09:08:08.466515Z",
     "shell.execute_reply": "2025-05-23T09:08:08.464593Z"
    },
    "papermill": {
     "duration": 5.472785,
     "end_time": "2025-05-23T09:08:08.468265",
     "exception": false,
     "start_time": "2025-05-23T09:08:02.995480",
     "status": "completed"
    },
    "tags": []
   },
   "outputs": [
    {
     "name": "stdout",
     "output_type": "stream",
     "text": [
      "rule\n",
      "['say', ',', 'say', ',', 'decide', ',', 'decide']\n"
     ]
    }
   ],
   "source": [
    "# spacy also allows morphological analysis, such that we can keep the morphological info\n",
    "\n",
    "\n",
    "testy_boi = \"said, says, decided, decides\"\n",
    "\n",
    "import spacy\n",
    "\n",
    "\n",
    "# English pipelines include a rule-based lemmatizer\n",
    "nlp = spacy.load(\"en_core_web_sm\", disable=['parser', 'ner'])\n",
    "lemmatizer = nlp.get_pipe(\"lemmatizer\")\n",
    "#lemmatizer = nlp.add_pipe(\"lemmatizer\", config={\"mode\": \"lookup\"})\n",
    "print(lemmatizer.mode)  # 'rule'\n",
    "\n",
    "#doc = nlp(\"I was reading the paper.\")\n",
    "print([token.lemma_ for token in nlp(testy_boi)])\n",
    "# ['I', 'be', 'read', 'the', 'paper', '.']"
   ]
  },
  {
   "cell_type": "code",
   "execution_count": 12,
   "id": "96bbb9ba",
   "metadata": {
    "execution": {
     "iopub.execute_input": "2025-05-23T09:08:08.480891Z",
     "iopub.status.busy": "2025-05-23T09:08:08.479396Z",
     "iopub.status.idle": "2025-05-23T09:08:11.032734Z",
     "shell.execute_reply": "2025-05-23T09:08:11.031492Z"
    },
    "papermill": {
     "duration": 2.561277,
     "end_time": "2025-05-23T09:08:11.034449",
     "exception": false,
     "start_time": "2025-05-23T09:08:08.473172",
     "status": "completed"
    },
    "tags": []
   },
   "outputs": [
    {
     "data": {
      "image/png": "[encoded data removed]",
      "text/plain": [
       "<Figure size 640x480 with 1 Axes>"
      ]
     },
     "metadata": {},
     "output_type": "display_data"
    },
    {
     "data": {
      "image/png": "[encoded data removed]",
      "text/plain": [
       "<Figure size 640x480 with 1 Axes>"
      ]
     },
     "metadata": {},
     "output_type": "display_data"
    },
    {
     "data": {
      "image/png": "[encoded data removed]",
      "text/plain": [
       "<Figure size 640x480 with 1 Axes>"
      ]
     },
     "metadata": {},
     "output_type": "display_data"
    },
    {
     "data": {
      "image/png": "[encoded data removed]",
      "text/plain": [
       "<Figure size 640x480 with 1 Axes>"
      ]
     },
     "metadata": {},
     "output_type": "display_data"
    },
    {
     "data": {
      "image/png": "[encoded data removed]",
      "text/plain": [
       "<Figure size 640x480 with 1 Axes>"
      ]
     },
     "metadata": {},
     "output_type": "display_data"
    },
    {
     "data": {
      "image/png": "[encoded data removed]",
      "text/plain": [
       "<Figure size 640x480 with 1 Axes>"
      ]
     },
     "metadata": {},
     "output_type": "display_data"
    },
    {
     "data": {
      "image/png": "[encoded data removed]",
      "text/plain": [
       "<Figure size 640x480 with 1 Axes>"
      ]
     },
     "metadata": {},
     "output_type": "display_data"
    },
    {
     "data": {
      "image/png": "[encoded data removed]",
      "text/plain": [
       "<Figure size 640x480 with 1 Axes>"
      ]
     },
     "metadata": {},
     "output_type": "display_data"
    },
    {
     "data": {
      "image/png": "[encoded data removed]",
      "text/plain": [
       "<Figure size 640x480 with 1 Axes>"
      ]
     },
     "metadata": {},
     "output_type": "display_data"
    },
    {
     "data": {
      "image/png": "[encoded data removed]",
      "text/plain": [
       "<Figure size 640x480 with 1 Axes>"
      ]
     },
     "metadata": {},
     "output_type": "display_data"
    }
   ],
   "source": [
    "\n",
    "import matplotlib.pyplot as plt\n",
    "\n",
    "\n",
    "#from nltk.stem import WordNetLemmatizer\n",
    "#wnl = WordNetLemmatizer()\n",
    "#wnl.lemmatize('ducks')\n",
    "\n",
    "\n",
    "\n",
    "\n",
    "def count_elements(word_list):\n",
    "    words = ' '.join(word_list)\n",
    "    #print(words)\n",
    "    token_list = [token.lemma_ for token in nlp(words)]\n",
    "    #token_list = [wnl.lemmatize(x) for x in word_list]\n",
    "    #print(token_list)\n",
    "    \n",
    "    count_dict = {}\n",
    "    for x in token_list:\n",
    "        count_dict[x]= token_list.count(x)\n",
    "\n",
    "    sorted_count_dict = dict(sorted(count_dict.items(), key=lambda item: item[1], reverse=True))\n",
    "    #print(sorted_count_dict)\n",
    "    return sorted_count_dict\n",
    "\n",
    "\n",
    "\n",
    "\n",
    "for key, listy in pred_dict.items():\n",
    "    #plt.figure(figsize=(10, 10))\n",
    "    count_elements(listy)\n",
    "    list_count = count_elements(listy)\n",
    "    names = list(list_count.keys())\n",
    "    values = list(list_count.values())\n",
    "    plt.bar(range(len(list_count)), values, tick_label=names)\n",
    "    plt.xticks(rotation=90) \n",
    "    plt.title(key)  # Optional: add title\n",
    "    plt.tight_layout() \n",
    "    plt.show()\n",
    "   # print()\n",
    "\n",
    "        "
   ]
  },
  {
   "cell_type": "markdown",
   "id": "ff9f1d62",
   "metadata": {
    "papermill": {
     "duration": 0.007377,
     "end_time": "2025-05-23T09:08:11.049378",
     "exception": false,
     "start_time": "2025-05-23T09:08:11.042001",
     "status": "completed"
    },
    "tags": []
   },
   "source": [
    "# NSP"
   ]
  },
  {
   "cell_type": "code",
   "execution_count": 13,
   "id": "6095d8cf",
   "metadata": {
    "execution": {
     "iopub.execute_input": "2025-05-23T09:08:11.065812Z",
     "iopub.status.busy": "2025-05-23T09:08:11.065489Z",
     "iopub.status.idle": "2025-05-23T09:08:11.566891Z",
     "shell.execute_reply": "2025-05-23T09:08:11.565517Z"
    },
    "papermill": {
     "duration": 0.511781,
     "end_time": "2025-05-23T09:08:11.568552",
     "exception": false,
     "start_time": "2025-05-23T09:08:11.056771",
     "status": "completed"
    },
    "tags": []
   },
   "outputs": [
    {
     "name": "stdout",
     "output_type": "stream",
     "text": [
      "A: The sun rises\n",
      "B: in the east.\n",
      "Is Next: 1.0000, Not Next: 0.0000\n",
      "\n",
      "A: The sun rises\n",
      "B: in the west.\n",
      "Is Next: 1.0000, Not Next: 0.0000\n",
      "\n",
      "A: Apples are red.\n",
      "B: Cars can be expensive.\n",
      "Is Next: 0.9992, Not Next: 0.0008\n",
      "\n",
      "A: Apples are red.\n",
      "B: The man is on the helicopter.\n",
      "Is Next: 0.9964, Not Next: 0.0036\n",
      "\n",
      "A: Water appears\n",
      "B: happening\n",
      "Is Next: 0.9982, Not Next: 0.0018\n",
      "\n",
      "A: Water appears\n",
      "B: boiling\n",
      "Is Next: 0.9998, Not Next: 0.0002\n",
      "\n",
      "A: Water appears\n",
      "B: to be boiling\n",
      "Is Next: 1.0000, Not Next: 0.0000\n",
      "\n"
     ]
    }
   ],
   "source": [
    "#GPT NSP\n",
    "\n",
    "\n",
    "nsp_pairs = [\n",
    "    (\"The sun rises\", \"in the east.\"),  # is next\n",
    "    (\"The sun rises\", \"in the west.\"),\n",
    "    (\"Apples are red.\", \"Cars can be expensive.\"),           # not next\n",
    "    (\"Apples are red.\", \"The man is on the helicopter.\"), \n",
    "    (\"Water appears\", \"happening\"),\n",
    "    (\"Water appears\", \"boiling\"),\n",
    "    (\"Water appears\", \"to be boiling\"),\n",
    "]\n",
    "\n",
    "\n",
    "for sent_a, sent_b in nsp_pairs:\n",
    "    inputs = tokenizer(sent_a, sent_b, return_tensors=\"pt\", padding=True, truncation=True)\n",
    "\n",
    "    with torch.no_grad():\n",
    "        outputs = model(**inputs)\n",
    "        nsp_logits = outputs.seq_relationship_logits\n",
    "        probs = torch.softmax(nsp_logits, dim=1)\n",
    "\n",
    "    is_next_prob = probs[0][0].item()\n",
    "    not_next_prob = probs[0][1].item()\n",
    "    print(f\"A: {sent_a}\")\n",
    "    print(f\"B: {sent_b}\")\n",
    "    print(f\"Is Next: {is_next_prob:.4f}, Not Next: {not_next_prob:.4f}\\n\")\n"
   ]
  },
  {
   "cell_type": "code",
   "execution_count": null,
   "id": "322ed76c",
   "metadata": {
    "papermill": {
     "duration": 0.007126,
     "end_time": "2025-05-23T09:08:11.583034",
     "exception": false,
     "start_time": "2025-05-23T09:08:11.575908",
     "status": "completed"
    },
    "tags": []
   },
   "outputs": [],
   "source": []
  }
 ],
 "metadata": {
  "kaggle": {
   "accelerator": "none",
   "dataSources": [
    {
     "datasetId": 7489756,
     "sourceId": 11913400,
     "sourceType": "datasetVersion"
    }
   ],
   "dockerImageVersionId": 31040,
   "isGpuEnabled": false,
   "isInternetEnabled": true,
   "language": "python",
   "sourceType": "notebook"
  },
  "kernelspec": {
   "display_name": "Python 3",
   "language": "python",
   "name": "python3"
  },
  "language_info": {
   "codemirror_mode": {
    "name": "ipython",
    "version": 3
   },
   "file_extension": ".py",
   "mimetype": "text/x-python",
   "name": "python",
   "nbconvert_exporter": "python",
   "pygments_lexer": "ipython3",
   "version": "3.11.11"
  },
  "papermill": {
   "default_parameters": {},
   "duration": 82.369604,
   "end_time": "2025-05-23T09:08:15.099678",
   "environment_variables": {},
   "exception": null,
   "input_path": "__notebook__.ipynb",
   "output_path": "__notebook__.ipynb",
   "parameters": {},
   "start_time": "2025-05-23T09:06:52.730074",
   "version": "2.6.0"
  },
  "widgets": {
   "application/vnd.jupyter.widget-state+json": {
    "state": {
     "053d1879168549e38456cfdf4dde7708": {
      "model_module": "@jupyter-widgets/controls",
      "model_module_version": "2.0.0",
      "model_name": "ProgressStyleModel",
      "state": {
       "_model_module": "@jupyter-widgets/controls",
       "_model_module_version": "2.0.0",
       "_model_name": "ProgressStyleModel",
       "_view_count": null,
       "_view_module": "@jupyter-widgets/base",
       "_view_module_version": "2.0.0",
       "_view_name": "StyleView",
       "bar_color": null,
       "description_width": ""
      }
     },
     "0821446d11e344dc8ef8bcac04dd2700": {
      "model_module": "@jupyter-widgets/base",
      "model_module_version": "2.0.0",
      "model_name": "LayoutModel",
      "state": {
       "_model_module": "@jupyter-widgets/base",
       "_model_module_version": "2.0.0",
       "_model_name": "LayoutModel",
       "_view_count": null,
       "_view_module": "@jupyter-widgets/base",
       "_view_module_version": "2.0.0",
       "_view_name": "LayoutView",
       "align_content": null,
       "align_items": null,
       "align_self": null,
       "border_bottom": null,
       "border_left": null,
       "border_right": null,
       "border_top": null,
       "bottom": null,
       "display": null,
       "flex": null,
       "flex_flow": null,
       "grid_area": null,
       "grid_auto_columns": null,
       "grid_auto_flow": null,
       "grid_auto_rows": null,
       "grid_column": null,
       "grid_gap": null,
       "grid_row": null,
       "grid_template_areas": null,
       "grid_template_columns": null,
       "grid_template_rows": null,
       "height": null,
       "justify_content": null,
       "justify_items": null,
       "left": null,
       "margin": null,
       "max_height": null,
       "max_width": null,
       "min_height": null,
       "min_width": null,
       "object_fit": null,
       "object_position": null,
       "order": null,
       "overflow": null,
       "padding": null,
       "right": null,
       "top": null,
       "visibility": null,
       "width": null
      }
     },
     "0be05eed4dc44e86ab90a5d1be67b446": {
      "model_module": "@jupyter-widgets/controls",
      "model_module_version": "2.0.0",
      "model_name": "HTMLModel",
      "state": {
       "_dom_classes": [],
       "_model_module": "@jupyter-widgets/controls",
       "_model_module_version": "2.0.0",
       "_model_name": "HTMLModel",
       "_view_count": null,
       "_view_module": "@jupyter-widgets/controls",
       "_view_module_version": "2.0.0",
       "_view_name": "HTMLView",
       "description": "",
       "description_allow_html": false,
       "layout": "IPY_MODEL_1d05a4770d684542ac7941b1a004f8a2",
       "placeholder": "​",
       "style": "IPY_MODEL_cfd5eb047fe74c60aa9fd9950ac45a9b",
       "tabbable": null,
       "tooltip": null,
       "value": "config.json: 100%"
      }
     },
     "106048f4acc34fecbee8510795eeee7c": {
      "model_module": "@jupyter-widgets/base",
      "model_module_version": "2.0.0",
      "model_name": "LayoutModel",
      "state": {
       "_model_module": "@jupyter-widgets/base",
       "_model_module_version": "2.0.0",
       "_model_name": "LayoutModel",
       "_view_count": null,
       "_view_module": "@jupyter-widgets/base",
       "_view_module_version": "2.0.0",
       "_view_name": "LayoutView",
       "align_content": null,
       "align_items": null,
       "align_self": null,
       "border_bottom": null,
       "border_left": null,
       "border_right": null,
       "border_top": null,
       "bottom": null,
       "display": null,
       "flex": null,
       "flex_flow": null,
       "grid_area": null,
       "grid_auto_columns": null,
       "grid_auto_flow": null,
       "grid_auto_rows": null,
       "grid_column": null,
       "grid_gap": null,
       "grid_row": null,
       "grid_template_areas": null,
       "grid_template_columns": null,
       "grid_template_rows": null,
       "height": null,
       "justify_content": null,
       "justify_items": null,
       "left": null,
       "margin": null,
       "max_height": null,
       "max_width": null,
       "min_height": null,
       "min_width": null,
       "object_fit": null,
       "object_position": null,
       "order": null,
       "overflow": null,
       "padding": null,
       "right": null,
       "top": null,
       "visibility": null,
       "width": null
      }
     },
     "137e3c627d6d41f9bca5a0d5be411365": {
      "model_module": "@jupyter-widgets/controls",
      "model_module_version": "2.0.0",
      "model_name": "ProgressStyleModel",
      "state": {
       "_model_module": "@jupyter-widgets/controls",
       "_model_module_version": "2.0.0",
       "_model_name": "ProgressStyleModel",
       "_view_count": null,
       "_view_module": "@jupyter-widgets/base",
       "_view_module_version": "2.0.0",
       "_view_name": "StyleView",
       "bar_color": null,
       "description_width": ""
      }
     },
     "1ab7f12092394a35a2ba00fefcb64edb": {
      "model_module": "@jupyter-widgets/controls",
      "model_module_version": "2.0.0",
      "model_name": "ProgressStyleModel",
      "state": {
       "_model_module": "@jupyter-widgets/controls",
       "_model_module_version": "2.0.0",
       "_model_name": "ProgressStyleModel",
       "_view_count": null,
       "_view_module": "@jupyter-widgets/base",
       "_view_module_version": "2.0.0",
       "_view_name": "StyleView",
       "bar_color": null,
       "description_width": ""
      }
     },
     "1b70e427d15e420896a36294bf241f29": {
      "model_module": "@jupyter-widgets/controls",
      "model_module_version": "2.0.0",
      "model_name": "HTMLModel",
      "state": {
       "_dom_classes": [],
       "_model_module": "@jupyter-widgets/controls",
       "_model_module_version": "2.0.0",
       "_model_name": "HTMLModel",
       "_view_count": null,
       "_view_module": "@jupyter-widgets/controls",
       "_view_module_version": "2.0.0",
       "_view_name": "HTMLView",
       "description": "",
       "description_allow_html": false,
       "layout": "IPY_MODEL_8f44bfb70c344432b0f59f0bd72368a2",
       "placeholder": "​",
       "style": "IPY_MODEL_55bc00517c5645eeb7a3fb874f77dfea",
       "tabbable": null,
       "tooltip": null,
       "value": "model.safetensors: 100%"
      }
     },
     "1d05a4770d684542ac7941b1a004f8a2": {
      "model_module": "@jupyter-widgets/base",
      "model_module_version": "2.0.0",
      "model_name": "LayoutModel",
      "state": {
       "_model_module": "@jupyter-widgets/base",
       "_model_module_version": "2.0.0",
       "_model_name": "LayoutModel",
       "_view_count": null,
       "_view_module": "@jupyter-widgets/base",
       "_view_module_version": "2.0.0",
       "_view_name": "LayoutView",
       "align_content": null,
       "align_items": null,
       "align_self": null,
       "border_bottom": null,
       "border_left": null,
       "border_right": null,
       "border_top": null,
       "bottom": null,
       "display": null,
       "flex": null,
       "flex_flow": null,
       "grid_area": null,
       "grid_auto_columns": null,
       "grid_auto_flow": null,
       "grid_auto_rows": null,
       "grid_column": null,
       "grid_gap": null,
       "grid_row": null,
       "grid_template_areas": null,
       "grid_template_columns": null,
       "grid_template_rows": null,
       "height": null,
       "justify_content": null,
       "justify_items": null,
       "left": null,
       "margin": null,
       "max_height": null,
       "max_width": null,
       "min_height": null,
       "min_width": null,
       "object_fit": null,
       "object_position": null,
       "order": null,
       "overflow": null,
       "padding": null,
       "right": null,
       "top": null,
       "visibility": null,
       "width": null
      }
     },
     "22de7171027448faa90d9661dc6c9667": {
      "model_module": "@jupyter-widgets/base",
      "model_module_version": "2.0.0",
      "model_name": "LayoutModel",
      "state": {
       "_model_module": "@jupyter-widgets/base",
       "_model_module_version": "2.0.0",
       "_model_name": "LayoutModel",
       "_view_count": null,
       "_view_module": "@jupyter-widgets/base",
       "_view_module_version": "2.0.0",
       "_view_name": "LayoutView",
       "align_content": null,
       "align_items": null,
       "align_self": null,
       "border_bottom": null,
       "border_left": null,
       "border_right": null,
       "border_top": null,
       "bottom": null,
       "display": null,
       "flex": null,
       "flex_flow": null,
       "grid_area": null,
       "grid_auto_columns": null,
       "grid_auto_flow": null,
       "grid_auto_rows": null,
       "grid_column": null,
       "grid_gap": null,
       "grid_row": null,
       "grid_template_areas": null,
       "grid_template_columns": null,
       "grid_template_rows": null,
       "height": null,
       "justify_content": null,
       "justify_items": null,
       "left": null,
       "margin": null,
       "max_height": null,
       "max_width": null,
       "min_height": null,
       "min_width": null,
       "object_fit": null,
       "object_position": null,
       "order": null,
       "overflow": null,
       "padding": null,
       "right": null,
       "top": null,
       "visibility": null,
       "width": null
      }
     },
     "250f2b1a289141bda05e07833a375309": {
      "model_module": "@jupyter-widgets/controls",
      "model_module_version": "2.0.0",
      "model_name": "ProgressStyleModel",
      "state": {
       "_model_module": "@jupyter-widgets/controls",
       "_model_module_version": "2.0.0",
       "_model_name": "ProgressStyleModel",
       "_view_count": null,
       "_view_module": "@jupyter-widgets/base",
       "_view_module_version": "2.0.0",
       "_view_name": "StyleView",
       "bar_color": null,
       "description_width": ""
      }
     },
     "297ecda783674bd9b645abe22d52ef62": {
      "model_module": "@jupyter-widgets/controls",
      "model_module_version": "2.0.0",
      "model_name": "HTMLStyleModel",
      "state": {
       "_model_module": "@jupyter-widgets/controls",
       "_model_module_version": "2.0.0",
       "_model_name": "HTMLStyleModel",
       "_view_count": null,
       "_view_module": "@jupyter-widgets/base",
       "_view_module_version": "2.0.0",
       "_view_name": "StyleView",
       "background": null,
       "description_width": "",
       "font_size": null,
       "text_color": null
      }
     },
     "2af46e129a8d47d89229220117d6c989": {
      "model_module": "@jupyter-widgets/base",
      "model_module_version": "2.0.0",
      "model_name": "LayoutModel",
      "state": {
       "_model_module": "@jupyter-widgets/base",
       "_model_module_version": "2.0.0",
       "_model_name": "LayoutModel",
       "_view_count": null,
       "_view_module": "@jupyter-widgets/base",
       "_view_module_version": "2.0.0",
       "_view_name": "LayoutView",
       "align_content": null,
       "align_items": null,
       "align_self": null,
       "border_bottom": null,
       "border_left": null,
       "border_right": null,
       "border_top": null,
       "bottom": null,
       "display": null,
       "flex": null,
       "flex_flow": null,
       "grid_area": null,
       "grid_auto_columns": null,
       "grid_auto_flow": null,
       "grid_auto_rows": null,
       "grid_column": null,
       "grid_gap": null,
       "grid_row": null,
       "grid_template_areas": null,
       "grid_template_columns": null,
       "grid_template_rows": null,
       "height": null,
       "justify_content": null,
       "justify_items": null,
       "left": null,
       "margin": null,
       "max_height": null,
       "max_width": null,
       "min_height": null,
       "min_width": null,
       "object_fit": null,
       "object_position": null,
       "order": null,
       "overflow": null,
       "padding": null,
       "right": null,
       "top": null,
       "visibility": null,
       "width": null
      }
     },
     "2ffc63d6cad74f769f6d89def9e14db3": {
      "model_module": "@jupyter-widgets/controls",
      "model_module_version": "2.0.0",
      "model_name": "HTMLStyleModel",
      "state": {
       "_model_module": "@jupyter-widgets/controls",
       "_model_module_version": "2.0.0",
       "_model_name": "HTMLStyleModel",
       "_view_count": null,
       "_view_module": "@jupyter-widgets/base",
       "_view_module_version": "2.0.0",
       "_view_name": "StyleView",
       "background": null,
       "description_width": "",
       "font_size": null,
       "text_color": null
      }
     },
     "30c32e4e27124f5fb28c48ce7198ad36": {
      "model_module": "@jupyter-widgets/base",
      "model_module_version": "2.0.0",
      "model_name": "LayoutModel",
      "state": {
       "_model_module": "@jupyter-widgets/base",
       "_model_module_version": "2.0.0",
       "_model_name": "LayoutModel",
       "_view_count": null,
       "_view_module": "@jupyter-widgets/base",
       "_view_module_version": "2.0.0",
       "_view_name": "LayoutView",
       "align_content": null,
       "align_items": null,
       "align_self": null,
       "border_bottom": null,
       "border_left": null,
       "border_right": null,
       "border_top": null,
       "bottom": null,
       "display": null,
       "flex": null,
       "flex_flow": null,
       "grid_area": null,
       "grid_auto_columns": null,
       "grid_auto_flow": null,
       "grid_auto_rows": null,
       "grid_column": null,
       "grid_gap": null,
       "grid_row": null,
       "grid_template_areas": null,
       "grid_template_columns": null,
       "grid_template_rows": null,
       "height": null,
       "justify_content": null,
       "justify_items": null,
       "left": null,
       "margin": null,
       "max_height": null,
       "max_width": null,
       "min_height": null,
       "min_width": null,
       "object_fit": null,
       "object_position": null,
       "order": null,
       "overflow": null,
       "padding": null,
       "right": null,
       "top": null,
       "visibility": null,
       "width": null
      }
     },
     "30fa16a2ad6141b6b3a0613bdf5b0a72": {
      "model_module": "@jupyter-widgets/base",
      "model_module_version": "2.0.0",
      "model_name": "LayoutModel",
      "state": {
       "_model_module": "@jupyter-widgets/base",
       "_model_module_version": "2.0.0",
       "_model_name": "LayoutModel",
       "_view_count": null,
       "_view_module": "@jupyter-widgets/base",
       "_view_module_version": "2.0.0",
       "_view_name": "LayoutView",
       "align_content": null,
       "align_items": null,
       "align_self": null,
       "border_bottom": null,
       "border_left": null,
       "border_right": null,
       "border_top": null,
       "bottom": null,
       "display": null,
       "flex": null,
       "flex_flow": null,
       "grid_area": null,
       "grid_auto_columns": null,
       "grid_auto_flow": null,
       "grid_auto_rows": null,
       "grid_column": null,
       "grid_gap": null,
       "grid_row": null,
       "grid_template_areas": null,
       "grid_template_columns": null,
       "grid_template_rows": null,
       "height": null,
       "justify_content": null,
       "justify_items": null,
       "left": null,
       "margin": null,
       "max_height": null,
       "max_width": null,
       "min_height": null,
       "min_width": null,
       "object_fit": null,
       "object_position": null,
       "order": null,
       "overflow": null,
       "padding": null,
       "right": null,
       "top": null,
       "visibility": null,
       "width": null
      }
     },
     "37c3bfa20e9947d6b9c9a6709c85681e": {
      "model_module": "@jupyter-widgets/controls",
      "model_module_version": "2.0.0",
      "model_name": "HTMLModel",
      "state": {
       "_dom_classes": [],
       "_model_module": "@jupyter-widgets/controls",
       "_model_module_version": "2.0.0",
       "_model_name": "HTMLModel",
       "_view_count": null,
       "_view_module": "@jupyter-widgets/controls",
       "_view_module_version": "2.0.0",
       "_view_name": "HTMLView",
       "description": "",
       "description_allow_html": false,
       "layout": "IPY_MODEL_106048f4acc34fecbee8510795eeee7c",
       "placeholder": "​",
       "style": "IPY_MODEL_d787dc37cbe3451a8de6f6fc3783ed4f",
       "tabbable": null,
       "tooltip": null,
       "value": "tokenizer_config.json: 100%"
      }
     },
     "39d43a3795b64c7e86b2cd5ca2f8a0f2": {
      "model_module": "@jupyter-widgets/base",
      "model_module_version": "2.0.0",
      "model_name": "LayoutModel",
      "state": {
       "_model_module": "@jupyter-widgets/base",
       "_model_module_version": "2.0.0",
       "_model_name": "LayoutModel",
       "_view_count": null,
       "_view_module": "@jupyter-widgets/base",
       "_view_module_version": "2.0.0",
       "_view_name": "LayoutView",
       "align_content": null,
       "align_items": null,
       "align_self": null,
       "border_bottom": null,
       "border_left": null,
       "border_right": null,
       "border_top": null,
       "bottom": null,
       "display": null,
       "flex": null,
       "flex_flow": null,
       "grid_area": null,
       "grid_auto_columns": null,
       "grid_auto_flow": null,
       "grid_auto_rows": null,
       "grid_column": null,
       "grid_gap": null,
       "grid_row": null,
       "grid_template_areas": null,
       "grid_template_columns": null,
       "grid_template_rows": null,
       "height": null,
       "justify_content": null,
       "justify_items": null,
       "left": null,
       "margin": null,
       "max_height": null,
       "max_width": null,
       "min_height": null,
       "min_width": null,
       "object_fit": null,
       "object_position": null,
       "order": null,
       "overflow": null,
       "padding": null,
       "right": null,
       "top": null,
       "visibility": null,
       "width": null
      }
     },
     "3df988e14ce74b049b547907a1a1551a": {
      "model_module": "@jupyter-widgets/controls",
      "model_module_version": "2.0.0",
      "model_name": "FloatProgressModel",
      "state": {
       "_dom_classes": [],
       "_model_module": "@jupyter-widgets/controls",
       "_model_module_version": "2.0.0",
       "_model_name": "FloatProgressModel",
       "_view_count": null,
       "_view_module": "@jupyter-widgets/controls",
       "_view_module_version": "2.0.0",
       "_view_name": "ProgressView",
       "bar_style": "success",
       "description": "",
       "description_allow_html": false,
       "layout": "IPY_MODEL_30c32e4e27124f5fb28c48ce7198ad36",
       "max": 466062.0,
       "min": 0.0,
       "orientation": "horizontal",
       "style": "IPY_MODEL_1ab7f12092394a35a2ba00fefcb64edb",
       "tabbable": null,
       "tooltip": null,
       "value": 466062.0
      }
     },
     "4288e3dc66bc45bf889a9c8db12c084e": {
      "model_module": "@jupyter-widgets/controls",
      "model_module_version": "2.0.0",
      "model_name": "HTMLStyleModel",
      "state": {
       "_model_module": "@jupyter-widgets/controls",
       "_model_module_version": "2.0.0",
       "_model_name": "HTMLStyleModel",
       "_view_count": null,
       "_view_module": "@jupyter-widgets/base",
       "_view_module_version": "2.0.0",
       "_view_name": "StyleView",
       "background": null,
       "description_width": "",
       "font_size": null,
       "text_color": null
      }
     },
     "54daa6d1c026456281b5dc81ec89f3f8": {
      "model_module": "@jupyter-widgets/base",
      "model_module_version": "2.0.0",
      "model_name": "LayoutModel",
      "state": {
       "_model_module": "@jupyter-widgets/base",
       "_model_module_version": "2.0.0",
       "_model_name": "LayoutModel",
       "_view_count": null,
       "_view_module": "@jupyter-widgets/base",
       "_view_module_version": "2.0.0",
       "_view_name": "LayoutView",
       "align_content": null,
       "align_items": null,
       "align_self": null,
       "border_bottom": null,
       "border_left": null,
       "border_right": null,
       "border_top": null,
       "bottom": null,
       "display": null,
       "flex": null,
       "flex_flow": null,
       "grid_area": null,
       "grid_auto_columns": null,
       "grid_auto_flow": null,
       "grid_auto_rows": null,
       "grid_column": null,
       "grid_gap": null,
       "grid_row": null,
       "grid_template_areas": null,
       "grid_template_columns": null,
       "grid_template_rows": null,
       "height": null,
       "justify_content": null,
       "justify_items": null,
       "left": null,
       "margin": null,
       "max_height": null,
       "max_width": null,
       "min_height": null,
       "min_width": null,
       "object_fit": null,
       "object_position": null,
       "order": null,
       "overflow": null,
       "padding": null,
       "right": null,
       "top": null,
       "visibility": null,
       "width": null
      }
     },
     "55bc00517c5645eeb7a3fb874f77dfea": {
      "model_module": "@jupyter-widgets/controls",
      "model_module_version": "2.0.0",
      "model_name": "HTMLStyleModel",
      "state": {
       "_model_module": "@jupyter-widgets/controls",
       "_model_module_version": "2.0.0",
       "_model_name": "HTMLStyleModel",
       "_view_count": null,
       "_view_module": "@jupyter-widgets/base",
       "_view_module_version": "2.0.0",
       "_view_name": "StyleView",
       "background": null,
       "description_width": "",
       "font_size": null,
       "text_color": null
      }
     },
     "5d72385539154b9b96d7105a3b092ab6": {
      "model_module": "@jupyter-widgets/controls",
      "model_module_version": "2.0.0",
      "model_name": "HTMLModel",
      "state": {
       "_dom_classes": [],
       "_model_module": "@jupyter-widgets/controls",
       "_model_module_version": "2.0.0",
       "_model_name": "HTMLModel",
       "_view_count": null,
       "_view_module": "@jupyter-widgets/controls",
       "_view_module_version": "2.0.0",
       "_view_name": "HTMLView",
       "description": "",
       "description_allow_html": false,
       "layout": "IPY_MODEL_f316d726fde04b43a93ed4bb9c1bdca6",
       "placeholder": "​",
       "style": "IPY_MODEL_9fc2c083e5494ed98b8b06e3d277cc2a",
       "tabbable": null,
       "tooltip": null,
       "value": " 570/570 [00:00&lt;00:00, 62.1kB/s]"
      }
     },
     "6290de055220466da654289329070617": {
      "model_module": "@jupyter-widgets/controls",
      "model_module_version": "2.0.0",
      "model_name": "HTMLModel",
      "state": {
       "_dom_classes": [],
       "_model_module": "@jupyter-widgets/controls",
       "_model_module_version": "2.0.0",
       "_model_name": "HTMLModel",
       "_view_count": null,
       "_view_module": "@jupyter-widgets/controls",
       "_view_module_version": "2.0.0",
       "_view_name": "HTMLView",
       "description": "",
       "description_allow_html": false,
       "layout": "IPY_MODEL_afea1c931b6f4006bd4c5ebaf1550444",
       "placeholder": "​",
       "style": "IPY_MODEL_634db070bac74c2fac39a5f0103b63e5",
       "tabbable": null,
       "tooltip": null,
       "value": " 440M/440M [00:02&lt;00:00, 282MB/s]"
      }
     },
     "634db070bac74c2fac39a5f0103b63e5": {
      "model_module": "@jupyter-widgets/controls",
      "model_module_version": "2.0.0",
      "model_name": "HTMLStyleModel",
      "state": {
       "_model_module": "@jupyter-widgets/controls",
       "_model_module_version": "2.0.0",
       "_model_name": "HTMLStyleModel",
       "_view_count": null,
       "_view_module": "@jupyter-widgets/base",
       "_view_module_version": "2.0.0",
       "_view_name": "StyleView",
       "background": null,
       "description_width": "",
       "font_size": null,
       "text_color": null
      }
     },
     "8f44bfb70c344432b0f59f0bd72368a2": {
      "model_module": "@jupyter-widgets/base",
      "model_module_version": "2.0.0",
      "model_name": "LayoutModel",
      "state": {
       "_model_module": "@jupyter-widgets/base",
       "_model_module_version": "2.0.0",
       "_model_name": "LayoutModel",
       "_view_count": null,
       "_view_module": "@jupyter-widgets/base",
       "_view_module_version": "2.0.0",
       "_view_name": "LayoutView",
       "align_content": null,
       "align_items": null,
       "align_self": null,
       "border_bottom": null,
       "border_left": null,
       "border_right": null,
       "border_top": null,
       "bottom": null,
       "display": null,
       "flex": null,
       "flex_flow": null,
       "grid_area": null,
       "grid_auto_columns": null,
       "grid_auto_flow": null,
       "grid_auto_rows": null,
       "grid_column": null,
       "grid_gap": null,
       "grid_row": null,
       "grid_template_areas": null,
       "grid_template_columns": null,
       "grid_template_rows": null,
       "height": null,
       "justify_content": null,
       "justify_items": null,
       "left": null,
       "margin": null,
       "max_height": null,
       "max_width": null,
       "min_height": null,
       "min_width": null,
       "object_fit": null,
       "object_position": null,
       "order": null,
       "overflow": null,
       "padding": null,
       "right": null,
       "top": null,
       "visibility": null,
       "width": null
      }
     },
     "929f6dae116c4faab18f75c36324b872": {
      "model_module": "@jupyter-widgets/base",
      "model_module_version": "2.0.0",
      "model_name": "LayoutModel",
      "state": {
       "_model_module": "@jupyter-widgets/base",
       "_model_module_version": "2.0.0",
       "_model_name": "LayoutModel",
       "_view_count": null,
       "_view_module": "@jupyter-widgets/base",
       "_view_module_version": "2.0.0",
       "_view_name": "LayoutView",
       "align_content": null,
       "align_items": null,
       "align_self": null,
       "border_bottom": null,
       "border_left": null,
       "border_right": null,
       "border_top": null,
       "bottom": null,
       "display": null,
       "flex": null,
       "flex_flow": null,
       "grid_area": null,
       "grid_auto_columns": null,
       "grid_auto_flow": null,
       "grid_auto_rows": null,
       "grid_column": null,
       "grid_gap": null,
       "grid_row": null,
       "grid_template_areas": null,
       "grid_template_columns": null,
       "grid_template_rows": null,
       "height": null,
       "justify_content": null,
       "justify_items": null,
       "left": null,
       "margin": null,
       "max_height": null,
       "max_width": null,
       "min_height": null,
       "min_width": null,
       "object_fit": null,
       "object_position": null,
       "order": null,
       "overflow": null,
       "padding": null,
       "right": null,
       "top": null,
       "visibility": null,
       "width": null
      }
     },
     "94798baa75274b348ababa955e5e9cc8": {
      "model_module": "@jupyter-widgets/controls",
      "model_module_version": "2.0.0",
      "model_name": "HBoxModel",
      "state": {
       "_dom_classes": [],
       "_model_module": "@jupyter-widgets/controls",
       "_model_module_version": "2.0.0",
       "_model_name": "HBoxModel",
       "_view_count": null,
       "_view_module": "@jupyter-widgets/controls",
       "_view_module_version": "2.0.0",
       "_view_name": "HBoxView",
       "box_style": "",
       "children": [
        "IPY_MODEL_37c3bfa20e9947d6b9c9a6709c85681e",
        "IPY_MODEL_b72a9537b5b74c5b87c455976b557400",
        "IPY_MODEL_cbbdfae0439449af8c5da0afd846c2b5"
       ],
       "layout": "IPY_MODEL_929f6dae116c4faab18f75c36324b872",
       "tabbable": null,
       "tooltip": null
      }
     },
     "98410f0548e44588a82526a4e14dd1b3": {
      "model_module": "@jupyter-widgets/controls",
      "model_module_version": "2.0.0",
      "model_name": "FloatProgressModel",
      "state": {
       "_dom_classes": [],
       "_model_module": "@jupyter-widgets/controls",
       "_model_module_version": "2.0.0",
       "_model_name": "FloatProgressModel",
       "_view_count": null,
       "_view_module": "@jupyter-widgets/controls",
       "_view_module_version": "2.0.0",
       "_view_name": "ProgressView",
       "bar_style": "success",
       "description": "",
       "description_allow_html": false,
       "layout": "IPY_MODEL_a7a3b081560b4196be0b1f4575a6a037",
       "max": 440449768.0,
       "min": 0.0,
       "orientation": "horizontal",
       "style": "IPY_MODEL_137e3c627d6d41f9bca5a0d5be411365",
       "tabbable": null,
       "tooltip": null,
       "value": 440449768.0
      }
     },
     "9e54c746151d4e7bb43262f7c5f23f3b": {
      "model_module": "@jupyter-widgets/base",
      "model_module_version": "2.0.0",
      "model_name": "LayoutModel",
      "state": {
       "_model_module": "@jupyter-widgets/base",
       "_model_module_version": "2.0.0",
       "_model_name": "LayoutModel",
       "_view_count": null,
       "_view_module": "@jupyter-widgets/base",
       "_view_module_version": "2.0.0",
       "_view_name": "LayoutView",
       "align_content": null,
       "align_items": null,
       "align_self": null,
       "border_bottom": null,
       "border_left": null,
       "border_right": null,
       "border_top": null,
       "bottom": null,
       "display": null,
       "flex": null,
       "flex_flow": null,
       "grid_area": null,
       "grid_auto_columns": null,
       "grid_auto_flow": null,
       "grid_auto_rows": null,
       "grid_column": null,
       "grid_gap": null,
       "grid_row": null,
       "grid_template_areas": null,
       "grid_template_columns": null,
       "grid_template_rows": null,
       "height": null,
       "justify_content": null,
       "justify_items": null,
       "left": null,
       "margin": null,
       "max_height": null,
       "max_width": null,
       "min_height": null,
       "min_width": null,
       "object_fit": null,
       "object_position": null,
       "order": null,
       "overflow": null,
       "padding": null,
       "right": null,
       "top": null,
       "visibility": null,
       "width": null
      }
     },
     "9fc2c083e5494ed98b8b06e3d277cc2a": {
      "model_module": "@jupyter-widgets/controls",
      "model_module_version": "2.0.0",
      "model_name": "HTMLStyleModel",
      "state": {
       "_model_module": "@jupyter-widgets/controls",
       "_model_module_version": "2.0.0",
       "_model_name": "HTMLStyleModel",
       "_view_count": null,
       "_view_module": "@jupyter-widgets/base",
       "_view_module_version": "2.0.0",
       "_view_name": "StyleView",
       "background": null,
       "description_width": "",
       "font_size": null,
       "text_color": null
      }
     },
     "a2982329e078446ab39b22acdf2f73ad": {
      "model_module": "@jupyter-widgets/controls",
      "model_module_version": "2.0.0",
      "model_name": "HTMLStyleModel",
      "state": {
       "_model_module": "@jupyter-widgets/controls",
       "_model_module_version": "2.0.0",
       "_model_name": "HTMLStyleModel",
       "_view_count": null,
       "_view_module": "@jupyter-widgets/base",
       "_view_module_version": "2.0.0",
       "_view_name": "StyleView",
       "background": null,
       "description_width": "",
       "font_size": null,
       "text_color": null
      }
     },
     "a5848421739f40789a1ef73e4009f894": {
      "model_module": "@jupyter-widgets/base",
      "model_module_version": "2.0.0",
      "model_name": "LayoutModel",
      "state": {
       "_model_module": "@jupyter-widgets/base",
       "_model_module_version": "2.0.0",
       "_model_name": "LayoutModel",
       "_view_count": null,
       "_view_module": "@jupyter-widgets/base",
       "_view_module_version": "2.0.0",
       "_view_name": "LayoutView",
       "align_content": null,
       "align_items": null,
       "align_self": null,
       "border_bottom": null,
       "border_left": null,
       "border_right": null,
       "border_top": null,
       "bottom": null,
       "display": null,
       "flex": null,
       "flex_flow": null,
       "grid_area": null,
       "grid_auto_columns": null,
       "grid_auto_flow": null,
       "grid_auto_rows": null,
       "grid_column": null,
       "grid_gap": null,
       "grid_row": null,
       "grid_template_areas": null,
       "grid_template_columns": null,
       "grid_template_rows": null,
       "height": null,
       "justify_content": null,
       "justify_items": null,
       "left": null,
       "margin": null,
       "max_height": null,
       "max_width": null,
       "min_height": null,
       "min_width": null,
       "object_fit": null,
       "object_position": null,
       "order": null,
       "overflow": null,
       "padding": null,
       "right": null,
       "top": null,
       "visibility": null,
       "width": null
      }
     },
     "a6f265fc26884985957a1f100c6c646c": {
      "model_module": "@jupyter-widgets/base",
      "model_module_version": "2.0.0",
      "model_name": "LayoutModel",
      "state": {
       "_model_module": "@jupyter-widgets/base",
       "_model_module_version": "2.0.0",
       "_model_name": "LayoutModel",
       "_view_count": null,
       "_view_module": "@jupyter-widgets/base",
       "_view_module_version": "2.0.0",
       "_view_name": "LayoutView",
       "align_content": null,
       "align_items": null,
       "align_self": null,
       "border_bottom": null,
       "border_left": null,
       "border_right": null,
       "border_top": null,
       "bottom": null,
       "display": null,
       "flex": null,
       "flex_flow": null,
       "grid_area": null,
       "grid_auto_columns": null,
       "grid_auto_flow": null,
       "grid_auto_rows": null,
       "grid_column": null,
       "grid_gap": null,
       "grid_row": null,
       "grid_template_areas": null,
       "grid_template_columns": null,
       "grid_template_rows": null,
       "height": null,
       "justify_content": null,
       "justify_items": null,
       "left": null,
       "margin": null,
       "max_height": null,
       "max_width": null,
       "min_height": null,
       "min_width": null,
       "object_fit": null,
       "object_position": null,
       "order": null,
       "overflow": null,
       "padding": null,
       "right": null,
       "top": null,
       "visibility": null,
       "width": null
      }
     },
     "a7a3b081560b4196be0b1f4575a6a037": {
      "model_module": "@jupyter-widgets/base",
      "model_module_version": "2.0.0",
      "model_name": "LayoutModel",
      "state": {
       "_model_module": "@jupyter-widgets/base",
       "_model_module_version": "2.0.0",
       "_model_name": "LayoutModel",
       "_view_count": null,
       "_view_module": "@jupyter-widgets/base",
       "_view_module_version": "2.0.0",
       "_view_name": "LayoutView",
       "align_content": null,
       "align_items": null,
       "align_self": null,
       "border_bottom": null,
       "border_left": null,
       "border_right": null,
       "border_top": null,
       "bottom": null,
       "display": null,
       "flex": null,
       "flex_flow": null,
       "grid_area": null,
       "grid_auto_columns": null,
       "grid_auto_flow": null,
       "grid_auto_rows": null,
       "grid_column": null,
       "grid_gap": null,
       "grid_row": null,
       "grid_template_areas": null,
       "grid_template_columns": null,
       "grid_template_rows": null,
       "height": null,
       "justify_content": null,
       "justify_items": null,
       "left": null,
       "margin": null,
       "max_height": null,
       "max_width": null,
       "min_height": null,
       "min_width": null,
       "object_fit": null,
       "object_position": null,
       "order": null,
       "overflow": null,
       "padding": null,
       "right": null,
       "top": null,
       "visibility": null,
       "width": null
      }
     },
     "ae6b8b3e35a94ccf90c87b93aaeb53eb": {
      "model_module": "@jupyter-widgets/controls",
      "model_module_version": "2.0.0",
      "model_name": "HTMLModel",
      "state": {
       "_dom_classes": [],
       "_model_module": "@jupyter-widgets/controls",
       "_model_module_version": "2.0.0",
       "_model_name": "HTMLModel",
       "_view_count": null,
       "_view_module": "@jupyter-widgets/controls",
       "_view_module_version": "2.0.0",
       "_view_name": "HTMLView",
       "description": "",
       "description_allow_html": false,
       "layout": "IPY_MODEL_2af46e129a8d47d89229220117d6c989",
       "placeholder": "​",
       "style": "IPY_MODEL_d6b8a478bdbd453fad2c1a65356a4979",
       "tabbable": null,
       "tooltip": null,
       "value": "vocab.txt: 100%"
      }
     },
     "afea1c931b6f4006bd4c5ebaf1550444": {
      "model_module": "@jupyter-widgets/base",
      "model_module_version": "2.0.0",
      "model_name": "LayoutModel",
      "state": {
       "_model_module": "@jupyter-widgets/base",
       "_model_module_version": "2.0.0",
       "_model_name": "LayoutModel",
       "_view_count": null,
       "_view_module": "@jupyter-widgets/base",
       "_view_module_version": "2.0.0",
       "_view_name": "LayoutView",
       "align_content": null,
       "align_items": null,
       "align_self": null,
       "border_bottom": null,
       "border_left": null,
       "border_right": null,
       "border_top": null,
       "bottom": null,
       "display": null,
       "flex": null,
       "flex_flow": null,
       "grid_area": null,
       "grid_auto_columns": null,
       "grid_auto_flow": null,
       "grid_auto_rows": null,
       "grid_column": null,
       "grid_gap": null,
       "grid_row": null,
       "grid_template_areas": null,
       "grid_template_columns": null,
       "grid_template_rows": null,
       "height": null,
       "justify_content": null,
       "justify_items": null,
       "left": null,
       "margin": null,
       "max_height": null,
       "max_width": null,
       "min_height": null,
       "min_width": null,
       "object_fit": null,
       "object_position": null,
       "order": null,
       "overflow": null,
       "padding": null,
       "right": null,
       "top": null,
       "visibility": null,
       "width": null
      }
     },
     "b72a9537b5b74c5b87c455976b557400": {
      "model_module": "@jupyter-widgets/controls",
      "model_module_version": "2.0.0",
      "model_name": "FloatProgressModel",
      "state": {
       "_dom_classes": [],
       "_model_module": "@jupyter-widgets/controls",
       "_model_module_version": "2.0.0",
       "_model_name": "FloatProgressModel",
       "_view_count": null,
       "_view_module": "@jupyter-widgets/controls",
       "_view_module_version": "2.0.0",
       "_view_name": "ProgressView",
       "bar_style": "success",
       "description": "",
       "description_allow_html": false,
       "layout": "IPY_MODEL_bd6a7e24eea44eb4906fcf0d127292d8",
       "max": 48.0,
       "min": 0.0,
       "orientation": "horizontal",
       "style": "IPY_MODEL_e8a034d3cbe74a59bc0398baa9a28788",
       "tabbable": null,
       "tooltip": null,
       "value": 48.0
      }
     },
     "bb22e9c89bff4a42b913f57370f84626": {
      "model_module": "@jupyter-widgets/base",
      "model_module_version": "2.0.0",
      "model_name": "LayoutModel",
      "state": {
       "_model_module": "@jupyter-widgets/base",
       "_model_module_version": "2.0.0",
       "_model_name": "LayoutModel",
       "_view_count": null,
       "_view_module": "@jupyter-widgets/base",
       "_view_module_version": "2.0.0",
       "_view_name": "LayoutView",
       "align_content": null,
       "align_items": null,
       "align_self": null,
       "border_bottom": null,
       "border_left": null,
       "border_right": null,
       "border_top": null,
       "bottom": null,
       "display": null,
       "flex": null,
       "flex_flow": null,
       "grid_area": null,
       "grid_auto_columns": null,
       "grid_auto_flow": null,
       "grid_auto_rows": null,
       "grid_column": null,
       "grid_gap": null,
       "grid_row": null,
       "grid_template_areas": null,
       "grid_template_columns": null,
       "grid_template_rows": null,
       "height": null,
       "justify_content": null,
       "justify_items": null,
       "left": null,
       "margin": null,
       "max_height": null,
       "max_width": null,
       "min_height": null,
       "min_width": null,
       "object_fit": null,
       "object_position": null,
       "order": null,
       "overflow": null,
       "padding": null,
       "right": null,
       "top": null,
       "visibility": null,
       "width": null
      }
     },
     "bd6a7e24eea44eb4906fcf0d127292d8": {
      "model_module": "@jupyter-widgets/base",
      "model_module_version": "2.0.0",
      "model_name": "LayoutModel",
      "state": {
       "_model_module": "@jupyter-widgets/base",
       "_model_module_version": "2.0.0",
       "_model_name": "LayoutModel",
       "_view_count": null,
       "_view_module": "@jupyter-widgets/base",
       "_view_module_version": "2.0.0",
       "_view_name": "LayoutView",
       "align_content": null,
       "align_items": null,
       "align_self": null,
       "border_bottom": null,
       "border_left": null,
       "border_right": null,
       "border_top": null,
       "bottom": null,
       "display": null,
       "flex": null,
       "flex_flow": null,
       "grid_area": null,
       "grid_auto_columns": null,
       "grid_auto_flow": null,
       "grid_auto_rows": null,
       "grid_column": null,
       "grid_gap": null,
       "grid_row": null,
       "grid_template_areas": null,
       "grid_template_columns": null,
       "grid_template_rows": null,
       "height": null,
       "justify_content": null,
       "justify_items": null,
       "left": null,
       "margin": null,
       "max_height": null,
       "max_width": null,
       "min_height": null,
       "min_width": null,
       "object_fit": null,
       "object_position": null,
       "order": null,
       "overflow": null,
       "padding": null,
       "right": null,
       "top": null,
       "visibility": null,
       "width": null
      }
     },
     "be4480d89e3e4bde86b1c3eb8c0a98e2": {
      "model_module": "@jupyter-widgets/controls",
      "model_module_version": "2.0.0",
      "model_name": "FloatProgressModel",
      "state": {
       "_dom_classes": [],
       "_model_module": "@jupyter-widgets/controls",
       "_model_module_version": "2.0.0",
       "_model_name": "FloatProgressModel",
       "_view_count": null,
       "_view_module": "@jupyter-widgets/controls",
       "_view_module_version": "2.0.0",
       "_view_name": "ProgressView",
       "bar_style": "success",
       "description": "",
       "description_allow_html": false,
       "layout": "IPY_MODEL_a5848421739f40789a1ef73e4009f894",
       "max": 570.0,
       "min": 0.0,
       "orientation": "horizontal",
       "style": "IPY_MODEL_250f2b1a289141bda05e07833a375309",
       "tabbable": null,
       "tooltip": null,
       "value": 570.0
      }
     },
     "cbbdfae0439449af8c5da0afd846c2b5": {
      "model_module": "@jupyter-widgets/controls",
      "model_module_version": "2.0.0",
      "model_name": "HTMLModel",
      "state": {
       "_dom_classes": [],
       "_model_module": "@jupyter-widgets/controls",
       "_model_module_version": "2.0.0",
       "_model_name": "HTMLModel",
       "_view_count": null,
       "_view_module": "@jupyter-widgets/controls",
       "_view_module_version": "2.0.0",
       "_view_name": "HTMLView",
       "description": "",
       "description_allow_html": false,
       "layout": "IPY_MODEL_39d43a3795b64c7e86b2cd5ca2f8a0f2",
       "placeholder": "​",
       "style": "IPY_MODEL_4288e3dc66bc45bf889a9c8db12c084e",
       "tabbable": null,
       "tooltip": null,
       "value": " 48.0/48.0 [00:00&lt;00:00, 2.81kB/s]"
      }
     },
     "ce0017e2ec314f068caed560d1cd966d": {
      "model_module": "@jupyter-widgets/controls",
      "model_module_version": "2.0.0",
      "model_name": "HBoxModel",
      "state": {
       "_dom_classes": [],
       "_model_module": "@jupyter-widgets/controls",
       "_model_module_version": "2.0.0",
       "_model_name": "HBoxModel",
       "_view_count": null,
       "_view_module": "@jupyter-widgets/controls",
       "_view_module_version": "2.0.0",
       "_view_name": "HBoxView",
       "box_style": "",
       "children": [
        "IPY_MODEL_0be05eed4dc44e86ab90a5d1be67b446",
        "IPY_MODEL_be4480d89e3e4bde86b1c3eb8c0a98e2",
        "IPY_MODEL_5d72385539154b9b96d7105a3b092ab6"
       ],
       "layout": "IPY_MODEL_0821446d11e344dc8ef8bcac04dd2700",
       "tabbable": null,
       "tooltip": null
      }
     },
     "cf101db75eaf40ee828a2654302d866f": {
      "model_module": "@jupyter-widgets/controls",
      "model_module_version": "2.0.0",
      "model_name": "HBoxModel",
      "state": {
       "_dom_classes": [],
       "_model_module": "@jupyter-widgets/controls",
       "_model_module_version": "2.0.0",
       "_model_name": "HBoxModel",
       "_view_count": null,
       "_view_module": "@jupyter-widgets/controls",
       "_view_module_version": "2.0.0",
       "_view_name": "HBoxView",
       "box_style": "",
       "children": [
        "IPY_MODEL_1b70e427d15e420896a36294bf241f29",
        "IPY_MODEL_98410f0548e44588a82526a4e14dd1b3",
        "IPY_MODEL_6290de055220466da654289329070617"
       ],
       "layout": "IPY_MODEL_22de7171027448faa90d9661dc6c9667",
       "tabbable": null,
       "tooltip": null
      }
     },
     "cfd5eb047fe74c60aa9fd9950ac45a9b": {
      "model_module": "@jupyter-widgets/controls",
      "model_module_version": "2.0.0",
      "model_name": "HTMLStyleModel",
      "state": {
       "_model_module": "@jupyter-widgets/controls",
       "_model_module_version": "2.0.0",
       "_model_name": "HTMLStyleModel",
       "_view_count": null,
       "_view_module": "@jupyter-widgets/base",
       "_view_module_version": "2.0.0",
       "_view_name": "StyleView",
       "background": null,
       "description_width": "",
       "font_size": null,
       "text_color": null
      }
     },
     "d54f852822da41f293d9dde1e8f1fdf4": {
      "model_module": "@jupyter-widgets/controls",
      "model_module_version": "2.0.0",
      "model_name": "HTMLModel",
      "state": {
       "_dom_classes": [],
       "_model_module": "@jupyter-widgets/controls",
       "_model_module_version": "2.0.0",
       "_model_name": "HTMLModel",
       "_view_count": null,
       "_view_module": "@jupyter-widgets/controls",
       "_view_module_version": "2.0.0",
       "_view_name": "HTMLView",
       "description": "",
       "description_allow_html": false,
       "layout": "IPY_MODEL_a6f265fc26884985957a1f100c6c646c",
       "placeholder": "​",
       "style": "IPY_MODEL_297ecda783674bd9b645abe22d52ef62",
       "tabbable": null,
       "tooltip": null,
       "value": " 466k/466k [00:00&lt;00:00, 2.79MB/s]"
      }
     },
     "d6b8a478bdbd453fad2c1a65356a4979": {
      "model_module": "@jupyter-widgets/controls",
      "model_module_version": "2.0.0",
      "model_name": "HTMLStyleModel",
      "state": {
       "_model_module": "@jupyter-widgets/controls",
       "_model_module_version": "2.0.0",
       "_model_name": "HTMLStyleModel",
       "_view_count": null,
       "_view_module": "@jupyter-widgets/base",
       "_view_module_version": "2.0.0",
       "_view_name": "StyleView",
       "background": null,
       "description_width": "",
       "font_size": null,
       "text_color": null
      }
     },
     "d787dc37cbe3451a8de6f6fc3783ed4f": {
      "model_module": "@jupyter-widgets/controls",
      "model_module_version": "2.0.0",
      "model_name": "HTMLStyleModel",
      "state": {
       "_model_module": "@jupyter-widgets/controls",
       "_model_module_version": "2.0.0",
       "_model_name": "HTMLStyleModel",
       "_view_count": null,
       "_view_module": "@jupyter-widgets/base",
       "_view_module_version": "2.0.0",
       "_view_name": "StyleView",
       "background": null,
       "description_width": "",
       "font_size": null,
       "text_color": null
      }
     },
     "db34dd58390c4034b55d6c5858829a7e": {
      "model_module": "@jupyter-widgets/base",
      "model_module_version": "2.0.0",
      "model_name": "LayoutModel",
      "state": {
       "_model_module": "@jupyter-widgets/base",
       "_model_module_version": "2.0.0",
       "_model_name": "LayoutModel",
       "_view_count": null,
       "_view_module": "@jupyter-widgets/base",
       "_view_module_version": "2.0.0",
       "_view_name": "LayoutView",
       "align_content": null,
       "align_items": null,
       "align_self": null,
       "border_bottom": null,
       "border_left": null,
       "border_right": null,
       "border_top": null,
       "bottom": null,
       "display": null,
       "flex": null,
       "flex_flow": null,
       "grid_area": null,
       "grid_auto_columns": null,
       "grid_auto_flow": null,
       "grid_auto_rows": null,
       "grid_column": null,
       "grid_gap": null,
       "grid_row": null,
       "grid_template_areas": null,
       "grid_template_columns": null,
       "grid_template_rows": null,
       "height": null,
       "justify_content": null,
       "justify_items": null,
       "left": null,
       "margin": null,
       "max_height": null,
       "max_width": null,
       "min_height": null,
       "min_width": null,
       "object_fit": null,
       "object_position": null,
       "order": null,
       "overflow": null,
       "padding": null,
       "right": null,
       "top": null,
       "visibility": null,
       "width": null
      }
     },
     "dff4e5bf3860461b8a9d867bf6c2a50f": {
      "model_module": "@jupyter-widgets/controls",
      "model_module_version": "2.0.0",
      "model_name": "HTMLModel",
      "state": {
       "_dom_classes": [],
       "_model_module": "@jupyter-widgets/controls",
       "_model_module_version": "2.0.0",
       "_model_name": "HTMLModel",
       "_view_count": null,
       "_view_module": "@jupyter-widgets/controls",
       "_view_module_version": "2.0.0",
       "_view_name": "HTMLView",
       "description": "",
       "description_allow_html": false,
       "layout": "IPY_MODEL_bb22e9c89bff4a42b913f57370f84626",
       "placeholder": "​",
       "style": "IPY_MODEL_a2982329e078446ab39b22acdf2f73ad",
       "tabbable": null,
       "tooltip": null,
       "value": " 232k/232k [00:00&lt;00:00, 2.82MB/s]"
      }
     },
     "e28bada70bbb41a89a3b6a24eebf45f8": {
      "model_module": "@jupyter-widgets/controls",
      "model_module_version": "2.0.0",
      "model_name": "FloatProgressModel",
      "state": {
       "_dom_classes": [],
       "_model_module": "@jupyter-widgets/controls",
       "_model_module_version": "2.0.0",
       "_model_name": "FloatProgressModel",
       "_view_count": null,
       "_view_module": "@jupyter-widgets/controls",
       "_view_module_version": "2.0.0",
       "_view_name": "ProgressView",
       "bar_style": "success",
       "description": "",
       "description_allow_html": false,
       "layout": "IPY_MODEL_54daa6d1c026456281b5dc81ec89f3f8",
       "max": 231508.0,
       "min": 0.0,
       "orientation": "horizontal",
       "style": "IPY_MODEL_053d1879168549e38456cfdf4dde7708",
       "tabbable": null,
       "tooltip": null,
       "value": 231508.0
      }
     },
     "e8a034d3cbe74a59bc0398baa9a28788": {
      "model_module": "@jupyter-widgets/controls",
      "model_module_version": "2.0.0",
      "model_name": "ProgressStyleModel",
      "state": {
       "_model_module": "@jupyter-widgets/controls",
       "_model_module_version": "2.0.0",
       "_model_name": "ProgressStyleModel",
       "_view_count": null,
       "_view_module": "@jupyter-widgets/base",
       "_view_module_version": "2.0.0",
       "_view_name": "StyleView",
       "bar_color": null,
       "description_width": ""
      }
     },
     "ebc5b936936e4794a2499481b613cea0": {
      "model_module": "@jupyter-widgets/controls",
      "model_module_version": "2.0.0",
      "model_name": "HBoxModel",
      "state": {
       "_dom_classes": [],
       "_model_module": "@jupyter-widgets/controls",
       "_model_module_version": "2.0.0",
       "_model_name": "HBoxModel",
       "_view_count": null,
       "_view_module": "@jupyter-widgets/controls",
       "_view_module_version": "2.0.0",
       "_view_name": "HBoxView",
       "box_style": "",
       "children": [
        "IPY_MODEL_ff50002e0d5746db811c1b30aeb9cc03",
        "IPY_MODEL_3df988e14ce74b049b547907a1a1551a",
        "IPY_MODEL_d54f852822da41f293d9dde1e8f1fdf4"
       ],
       "layout": "IPY_MODEL_9e54c746151d4e7bb43262f7c5f23f3b",
       "tabbable": null,
       "tooltip": null
      }
     },
     "f2a2c9b36abb4bc8a9293256b1af8147": {
      "model_module": "@jupyter-widgets/controls",
      "model_module_version": "2.0.0",
      "model_name": "HBoxModel",
      "state": {
       "_dom_classes": [],
       "_model_module": "@jupyter-widgets/controls",
       "_model_module_version": "2.0.0",
       "_model_name": "HBoxModel",
       "_view_count": null,
       "_view_module": "@jupyter-widgets/controls",
       "_view_module_version": "2.0.0",
       "_view_name": "HBoxView",
       "box_style": "",
       "children": [
        "IPY_MODEL_ae6b8b3e35a94ccf90c87b93aaeb53eb",
        "IPY_MODEL_e28bada70bbb41a89a3b6a24eebf45f8",
        "IPY_MODEL_dff4e5bf3860461b8a9d867bf6c2a50f"
       ],
       "layout": "IPY_MODEL_db34dd58390c4034b55d6c5858829a7e",
       "tabbable": null,
       "tooltip": null
      }
     },
     "f316d726fde04b43a93ed4bb9c1bdca6": {
      "model_module": "@jupyter-widgets/base",
      "model_module_version": "2.0.0",
      "model_name": "LayoutModel",
      "state": {
       "_model_module": "@jupyter-widgets/base",
       "_model_module_version": "2.0.0",
       "_model_name": "LayoutModel",
       "_view_count": null,
       "_view_module": "@jupyter-widgets/base",
       "_view_module_version": "2.0.0",
       "_view_name": "LayoutView",
       "align_content": null,
       "align_items": null,
       "align_self": null,
       "border_bottom": null,
       "border_left": null,
       "border_right": null,
       "border_top": null,
       "bottom": null,
       "display": null,
       "flex": null,
       "flex_flow": null,
       "grid_area": null,
       "grid_auto_columns": null,
       "grid_auto_flow": null,
       "grid_auto_rows": null,
       "grid_column": null,
       "grid_gap": null,
       "grid_row": null,
       "grid_template_areas": null,
       "grid_template_columns": null,
       "grid_template_rows": null,
       "height": null,
       "justify_content": null,
       "justify_items": null,
       "left": null,
       "margin": null,
       "max_height": null,
       "max_width": null,
       "min_height": null,
       "min_width": null,
       "object_fit": null,
       "object_position": null,
       "order": null,
       "overflow": null,
       "padding": null,
       "right": null,
       "top": null,
       "visibility": null,
       "width": null
      }
     },
     "ff50002e0d5746db811c1b30aeb9cc03": {
      "model_module": "@jupyter-widgets/controls",
      "model_module_version": "2.0.0",
      "model_name": "HTMLModel",
      "state": {
       "_dom_classes": [],
       "_model_module": "@jupyter-widgets/controls",
       "_model_module_version": "2.0.0",
       "_model_name": "HTMLModel",
       "_view_count": null,
       "_view_module": "@jupyter-widgets/controls",
       "_view_module_version": "2.0.0",
       "_view_name": "HTMLView",
       "description": "",
       "description_allow_html": false,
       "layout": "IPY_MODEL_30fa16a2ad6141b6b3a0613bdf5b0a72",
       "placeholder": "​",
       "style": "IPY_MODEL_2ffc63d6cad74f769f6d89def9e14db3",
       "tabbable": null,
       "tooltip": null,
       "value": "tokenizer.json: 100%"
      }
     }
    },
    "version_major": 2,
    "version_minor": 0
   }
  }
 },
 "nbformat": 4,
 "nbformat_minor": 5
}
